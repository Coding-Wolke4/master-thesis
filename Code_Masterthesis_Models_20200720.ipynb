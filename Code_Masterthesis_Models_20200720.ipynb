{
 "cells": [
  {
   "cell_type": "markdown",
   "metadata": {
    "colab_type": "text",
    "id": "YqPNs2aIuGjr"
   },
   "source": [
    "## Prep"
   ]
  },
  {
   "cell_type": "code",
   "execution_count": 186,
   "metadata": {
    "colab": {
     "base_uri": "https://localhost:8080/",
     "height": 35
    },
    "colab_type": "code",
    "id": "nmqKh-4m9ZMS",
    "outputId": "85245d17-fec5-47b0-c709-131bc0cfb7c5"
   },
   "outputs": [
    {
     "name": "stdout",
     "output_type": "stream",
     "text": [
      "Drive already mounted at /content/drive; to attempt to forcibly remount, call drive.mount(\"/content/drive\", force_remount=True).\n"
     ]
    }
   ],
   "source": [
    "from google.colab import drive\n",
    "drive.mount('/content/drive')"
   ]
  },
  {
   "cell_type": "code",
   "execution_count": 187,
   "metadata": {
    "colab": {
     "base_uri": "https://localhost:8080/",
     "height": 52
    },
    "colab_type": "code",
    "id": "QvduQ3-09ima",
    "outputId": "e25ca217-cea9-48b0-f400-272fa0409637"
   },
   "outputs": [
    {
     "name": "stdout",
     "output_type": "stream",
     "text": [
      "[Errno 2] No such file or directory: 'drive/My Drive/Master Thesis 2020'\n",
      "/content/drive/My Drive/Master Thesis 2020\n"
     ]
    }
   ],
   "source": [
    "%cd drive/My Drive/Master Thesis 2020"
   ]
  },
  {
   "cell_type": "code",
   "execution_count": 188,
   "metadata": {
    "colab": {
     "base_uri": "https://localhost:8080/",
     "height": 553
    },
    "colab_type": "code",
    "id": "r6dic0d89ks1",
    "outputId": "3a407750-c914-49c0-f376-231df50f030a"
   },
   "outputs": [
    {
     "name": "stdout",
     "output_type": "stream",
     "text": [
      " 0000012746_mid_2016.csv\n",
      " 0000021865_mid_2018.csv\n",
      " 0000023623_mid_2017.csv\n",
      " 0000024416_mid_2019.csv\n",
      " 0000026351_mid_2020.csv\n",
      "'Actual Generation per Production Type_201601010000-201701010000.csv'\n",
      "'Actual Generation per Production Type_201701010000-201801010000.csv'\n",
      "'Actual Generation per Production Type_201801010000-201901010000.csv'\n",
      "'Actual Generation per Production Type_201901010000-202001010000.csv'\n",
      " Code_Masterthesis.ipynb\n",
      " Code_Masterthesis_Jeffrey_Edited.ipynb\n",
      " Code_Masterthesis_Models.ipynb\n",
      " Code_Masterthesis_working.ipynb\n",
      " Confidential\n",
      " count_plot.png\n",
      "'Data sets'\n",
      " debug.gdoc\n",
      " Draft\n",
      " elexon_all_uk.csv\n",
      " Elexon_demand_INDO.csv\n",
      " Elexon_demand_ITSDO.csv\n",
      " Elexon_imbalance_price.csv\n",
      " Elexon_intraday_price.csv\n",
      " Elexon_WINDFOR.csv\n",
      " Elexon_WINDGEN.csv\n",
      "'Generation Forecasts for Wind and Solar_201601010000-201701010000.csv'\n",
      "'Generation Forecasts for Wind and Solar_201701010000-201801010000.csv'\n",
      "'Generation Forecasts for Wind and Solar_201801010000-201901010000.csv'\n",
      "'Generation Forecasts for Wind and Solar_201901010000-202001010000.csv'\n",
      "'History codes'\n",
      " Read_me.gdoc\n"
     ]
    }
   ],
   "source": [
    "!ls"
   ]
  },
  {
   "cell_type": "code",
   "execution_count": 189,
   "metadata": {
    "colab": {},
    "colab_type": "code",
    "id": "gLG01sGE9uI8"
   },
   "outputs": [],
   "source": [
    "import pandas as pd\n",
    "import os\n",
    "import numpy as np\n",
    "import xlrd\n",
    "import copy\n",
    "import datetime\n",
    "import glob\n",
    "from __future__ import division, print_function, unicode_literals\n",
    "\n",
    "from sklearn import preprocessing\n",
    "from sklearn.linear_model import LogisticRegression\n",
    "from sklearn.model_selection import train_test_split\n",
    "import seaborn as sns; sns.set()\n",
    "sns.set(style=\"white\")\n",
    "sns.set(style=\"whitegrid\", color_codes=True)\n",
    "\n",
    "# To plot pretty figures\n",
    "import matplotlib as mpl\n",
    "import matplotlib.pyplot as plt\n",
    "plt.rc(\"font\", size=14)\n",
    "mpl.rc('axes', labelsize=14)\n",
    "mpl.rc('xtick', labelsize=12)\n",
    "mpl.rc('ytick', labelsize=12)\n",
    "%matplotlib inline\n",
    "\n",
    "# Ignore useless warnings (see SciPy issue #5998)\n",
    "import warnings\n",
    "warnings.filterwarnings(action=\"ignore\", message=\"^internal gelsd\")"
   ]
  },
  {
   "cell_type": "code",
   "execution_count": 190,
   "metadata": {
    "colab": {},
    "colab_type": "code",
    "id": "3vYMIQf8vq5p"
   },
   "outputs": [],
   "source": [
    "# Where to save the figures\n",
    "PROJECT_ROOT_DIR = \".\"\n",
    "CHAPTER_ID = \"training_linear_models\"\n",
    "\n",
    "def save_fig(fig_id, tight_layout=True):\n",
    "    path = os.path.join(PROJECT_ROOT_DIR, \"images\", CHAPTER_ID, fig_id + \".png\")\n",
    "    print(\"Saving figure\", fig_id)\n",
    "    if tight_layout:\n",
    "        plt.tight_layout()\n",
    "    plt.savefig(path, format='png', dpi=300)"
   ]
  },
  {
   "cell_type": "code",
   "execution_count": 191,
   "metadata": {
    "colab": {},
    "colab_type": "code",
    "id": "n_h8i8NbwFQi"
   },
   "outputs": [],
   "source": [
    "# Reference\n",
    "# https://nbviewer.jupyter.org/github/ageron/handson-ml/blob/master/04_training_linear_models.ipynb"
   ]
  },
  {
   "cell_type": "markdown",
   "metadata": {
    "colab_type": "text",
    "id": "FRPe49GGuKPK"
   },
   "source": [
    "#### Import data\n"
   ]
  },
  {
   "cell_type": "code",
   "execution_count": 192,
   "metadata": {
    "colab": {},
    "colab_type": "code",
    "id": "NGUbAdzhuNau"
   },
   "outputs": [],
   "source": [
    "df_uk_elewind = pd.read_csv('elexon_all_uk.csv', sep=',') # TO-DO: make sure the timeblokcs are continuous and with 30 min timeblocks\n",
    "df_uk_elewind = df_uk_elewind.rename(columns={'Unnamed: 0': 'timeblock'}) # TO-DO: Feel in elexon wind for with mean...\n",
    "df_uk_elewind['timeblock'] = pd.to_datetime(df_uk_elewind['timeblock'])\n",
    "df_uk_elewind.set_index('timeblock', drop = True, inplace = True)\n",
    "df_uk = df_uk_elewind # extra code\n",
    "# df_uk.head()\n",
    "# df_uk_elewind.index.dtype # '<M8[ns]'is time series"
   ]
  },
  {
   "cell_type": "code",
   "execution_count": 193,
   "metadata": {
    "colab": {
     "base_uri": "https://localhost:8080/",
     "height": 335
    },
    "colab_type": "code",
    "id": "N00KPoy79X5d",
    "outputId": "38e4771c-e7c1-4581-c748-ba1eb780c008"
   },
   "outputs": [
    {
     "data": {
      "text/html": [
       "<div>\n",
       "<style scoped>\n",
       "    .dataframe tbody tr th:only-of-type {\n",
       "        vertical-align: middle;\n",
       "    }\n",
       "\n",
       "    .dataframe tbody tr th {\n",
       "        vertical-align: top;\n",
       "    }\n",
       "\n",
       "    .dataframe thead th {\n",
       "        text-align: right;\n",
       "    }\n",
       "</style>\n",
       "<table border=\"1\" class=\"dataframe\">\n",
       "  <thead>\n",
       "    <tr style=\"text-align: right;\">\n",
       "      <th></th>\n",
       "      <th>demand_ITSDO</th>\n",
       "      <th>demand_INDO</th>\n",
       "      <th>wind_elexon</th>\n",
       "      <th>wind_for_elexon</th>\n",
       "      <th>imbalance_price</th>\n",
       "      <th>imbalance_volume</th>\n",
       "      <th>solar</th>\n",
       "      <th>wind_total</th>\n",
       "      <th>wind_for_total</th>\n",
       "      <th>solar_for</th>\n",
       "      <th>intraday_volume</th>\n",
       "      <th>intraday_price</th>\n",
       "    </tr>\n",
       "    <tr>\n",
       "      <th>timeblock</th>\n",
       "      <th></th>\n",
       "      <th></th>\n",
       "      <th></th>\n",
       "      <th></th>\n",
       "      <th></th>\n",
       "      <th></th>\n",
       "      <th></th>\n",
       "      <th></th>\n",
       "      <th></th>\n",
       "      <th></th>\n",
       "      <th></th>\n",
       "      <th></th>\n",
       "    </tr>\n",
       "  </thead>\n",
       "  <tbody>\n",
       "    <tr>\n",
       "      <th>2017-01-01 00:00:00</th>\n",
       "      <td>27949.0</td>\n",
       "      <td>27239.0</td>\n",
       "      <td>3923.1666666666665</td>\n",
       "      <td>2423.0</td>\n",
       "      <td>40.00000</td>\n",
       "      <td>-251.8659</td>\n",
       "      <td>0.0</td>\n",
       "      <td>4891.0</td>\n",
       "      <td>3140.0</td>\n",
       "      <td>0.0</td>\n",
       "      <td>505.00</td>\n",
       "      <td>44.90</td>\n",
       "    </tr>\n",
       "    <tr>\n",
       "      <th>2017-01-01 00:30:00</th>\n",
       "      <td>28435.0</td>\n",
       "      <td>27814.0</td>\n",
       "      <td>3657.5</td>\n",
       "      <td>2423.0</td>\n",
       "      <td>46.86500</td>\n",
       "      <td>26.7183</td>\n",
       "      <td>0.0</td>\n",
       "      <td>4595.0</td>\n",
       "      <td>3140.0</td>\n",
       "      <td>0.0</td>\n",
       "      <td>559.15</td>\n",
       "      <td>47.13</td>\n",
       "    </tr>\n",
       "    <tr>\n",
       "      <th>2017-01-01 01:00:00</th>\n",
       "      <td>28165.0</td>\n",
       "      <td>27453.0</td>\n",
       "      <td>3925.0</td>\n",
       "      <td>2528.5</td>\n",
       "      <td>40.24737</td>\n",
       "      <td>-93.0661</td>\n",
       "      <td>0.0</td>\n",
       "      <td>4686.0</td>\n",
       "      <td>3242.5</td>\n",
       "      <td>0.0</td>\n",
       "      <td>649.35</td>\n",
       "      <td>45.62</td>\n",
       "    </tr>\n",
       "    <tr>\n",
       "      <th>2017-01-01 01:30:00</th>\n",
       "      <td>27707.0</td>\n",
       "      <td>26312.0</td>\n",
       "      <td>4393.166666666667</td>\n",
       "      <td>2528.5</td>\n",
       "      <td>40.05000</td>\n",
       "      <td>-403.2791</td>\n",
       "      <td>0.0</td>\n",
       "      <td>5439.0</td>\n",
       "      <td>3242.5</td>\n",
       "      <td>0.0</td>\n",
       "      <td>712.65</td>\n",
       "      <td>44.05</td>\n",
       "    </tr>\n",
       "    <tr>\n",
       "      <th>2017-01-01 02:00:00</th>\n",
       "      <td>27449.0</td>\n",
       "      <td>25289.0</td>\n",
       "      <td>4417.666666666667</td>\n",
       "      <td>2538.0</td>\n",
       "      <td>40.01602</td>\n",
       "      <td>-447.9751</td>\n",
       "      <td>0.0</td>\n",
       "      <td>5400.0</td>\n",
       "      <td>3272.5</td>\n",
       "      <td>0.0</td>\n",
       "      <td>599.15</td>\n",
       "      <td>44.83</td>\n",
       "    </tr>\n",
       "  </tbody>\n",
       "</table>\n",
       "</div>"
      ],
      "text/plain": [
       "                     demand_ITSDO  demand_INDO  ... intraday_volume  intraday_price\n",
       "timeblock                                       ...                                \n",
       "2017-01-01 00:00:00       27949.0      27239.0  ...          505.00           44.90\n",
       "2017-01-01 00:30:00       28435.0      27814.0  ...          559.15           47.13\n",
       "2017-01-01 01:00:00       28165.0      27453.0  ...          649.35           45.62\n",
       "2017-01-01 01:30:00       27707.0      26312.0  ...          712.65           44.05\n",
       "2017-01-01 02:00:00       27449.0      25289.0  ...          599.15           44.83\n",
       "\n",
       "[5 rows x 12 columns]"
      ]
     },
     "execution_count": 193,
     "metadata": {
      "tags": []
     },
     "output_type": "execute_result"
    }
   ],
   "source": [
    "# Drop unwanted Elexon data & make timesereis as index\n",
    "# df_uk = df_uk_elewind.drop(columns= ['wind_elexon', 'wind_for_elexon'])\n",
    "df_uk.head()"
   ]
  },
  {
   "cell_type": "code",
   "execution_count": 194,
   "metadata": {
    "colab": {},
    "colab_type": "code",
    "id": "JZm65OEOvFb-"
   },
   "outputs": [],
   "source": [
    "# Create new column y: intraday price - imbalance price >= 0  then denote as 1, intraday price - imbalance price <0 then denote as 0\n",
    "# TO-DO: ROC curve https://www.google.com/url?sa=i&url=https%3A%2F%2Fmachinelearningmastery.com%2Froc-curves-and-precision-recall-curves-for-classification-in-python%2F&psig=AOvVaw0v5zXIpH4HfiuTZ-tlMgrC&ust=1595149731542000&source=images&cd=vfe&ved=0CAIQjRxqFwoTCOCF0e-51uoCFQAAAAAdAAAAABAD\n",
    "# TO-DO: show how confident we should\n",
    "# TO-DO: look at ARIMA\n",
    "def create_y_column(row): # Alternative: where method\n",
    "    if row['intraday_price'] < row['imbalance_price']: # Learning: Use lambda function\n",
    "        val = 0\n",
    "    else:\n",
    "        val = 1\n",
    "\n",
    "    return val"
   ]
  },
  {
   "cell_type": "code",
   "execution_count": 195,
   "metadata": {
    "colab": {},
    "colab_type": "code",
    "id": "OpaVlRBPuplt"
   },
   "outputs": [],
   "source": [
    "df_uk['y'] = df_uk.apply(create_y_column, axis=1)\n",
    "# df_uk_elewind['y'] = df_uk_elewind.apply(create_y_column, axis=1)"
   ]
  },
  {
   "cell_type": "code",
   "execution_count": 196,
   "metadata": {
    "colab": {
     "base_uri": "https://localhost:8080/",
     "height": 225
    },
    "colab_type": "code",
    "id": "EvKSsu_cocR1",
    "outputId": "74e9af32-89db-41c9-ba69-53dd49196d71"
   },
   "outputs": [
    {
     "data": {
      "text/plain": [
       "DatetimeIndex(['2017-01-01 00:00:00', '2017-01-01 00:30:00',\n",
       "               '2017-01-01 01:00:00', '2017-01-01 01:30:00',\n",
       "               '2017-01-01 02:00:00', '2017-01-01 02:30:00',\n",
       "               '2017-01-01 03:00:00', '2017-01-01 03:30:00',\n",
       "               '2017-01-01 04:00:00', '2017-01-01 04:30:00',\n",
       "               ...\n",
       "               '2019-12-31 19:00:00', '2019-12-31 19:30:00',\n",
       "               '2019-12-31 20:00:00', '2019-12-31 20:30:00',\n",
       "               '2019-12-31 21:00:00', '2019-12-31 21:30:00',\n",
       "               '2019-12-31 22:00:00', '2019-12-31 22:30:00',\n",
       "               '2019-12-31 23:00:00', '2019-12-31 23:30:00'],\n",
       "              dtype='datetime64[ns]', name='timeblock', length=52566, freq=None)"
      ]
     },
     "execution_count": 196,
     "metadata": {
      "tags": []
     },
     "output_type": "execute_result"
    }
   ],
   "source": [
    "df_uk.index"
   ]
  },
  {
   "cell_type": "code",
   "execution_count": 197,
   "metadata": {
    "colab": {
     "base_uri": "https://localhost:8080/",
     "height": 104
    },
    "colab_type": "code",
    "id": "OHE21hbMfIF7",
    "outputId": "ce896ded-18c1-42c4-9d6f-d2c1473d3e0b"
   },
   "outputs": [
    {
     "data": {
      "text/plain": [
       "Index(['demand_ITSDO', 'demand_INDO', 'wind_elexon', 'wind_for_elexon',\n",
       "       'imbalance_price', 'imbalance_volume', 'solar', 'wind_total',\n",
       "       'wind_for_total', 'solar_for', 'intraday_volume', 'intraday_price',\n",
       "       'y'],\n",
       "      dtype='object')"
      ]
     },
     "execution_count": 197,
     "metadata": {
      "tags": []
     },
     "output_type": "execute_result"
    }
   ],
   "source": [
    "df_uk.columns"
   ]
  },
  {
   "cell_type": "markdown",
   "metadata": {
    "colab_type": "text",
    "id": "cyUg4T0i4WqR"
   },
   "source": [
    "#### Is the target variable unbalanced due to numbers of 1 and 0?"
   ]
  },
  {
   "cell_type": "code",
   "execution_count": 198,
   "metadata": {
    "colab": {
     "base_uri": "https://localhost:8080/",
     "height": 69
    },
    "colab_type": "code",
    "id": "yru9f0h5xs7g",
    "outputId": "f4305abc-c18f-40e9-f06a-81ae2656d599"
   },
   "outputs": [
    {
     "data": {
      "text/plain": [
       "1    31497\n",
       "0    21069\n",
       "Name: y, dtype: int64"
      ]
     },
     "execution_count": 198,
     "metadata": {
      "tags": []
     },
     "output_type": "execute_result"
    }
   ],
   "source": [
    "df_uk['y'].value_counts() # not too bad"
   ]
  },
  {
   "cell_type": "code",
   "execution_count": 199,
   "metadata": {
    "colab": {
     "base_uri": "https://localhost:8080/",
     "height": 306
    },
    "colab_type": "code",
    "id": "PCFTK9SqyDXO",
    "outputId": "dcabb0fb-9e11-4a73-f357-5b3c6485714a"
   },
   "outputs": [
    {
     "data": {
      "image/png": "[encoded data removed]",
      "text/plain": [
       "<Figure size 432x288 with 1 Axes>"
      ]
     },
     "metadata": {
      "needs_background": "light",
      "tags": []
     },
     "output_type": "display_data"
    },
    {
     "data": {
      "text/plain": [
       "<Figure size 432x288 with 0 Axes>"
      ]
     },
     "metadata": {
      "tags": []
     },
     "output_type": "display_data"
    }
   ],
   "source": [
    "sns.countplot(x='y', data=df_uk,palette='hls')\n",
    "plt.show()\n",
    "plt.savefig('count_plot')"
   ]
  },
  {
   "cell_type": "code",
   "execution_count": 200,
   "metadata": {
    "colab": {
     "base_uri": "https://localhost:8080/",
     "height": 52
    },
    "colab_type": "code",
    "id": "m-wIfU5HyDYH",
    "outputId": "a60c31f3-b183-4824-cc35-0cc9072093c0"
   },
   "outputs": [
    {
     "name": "stdout",
     "output_type": "stream",
     "text": [
      "intraday price - imbalance price <0:  40.08104097705741\n",
      "intraday price- imbalance price >= 0:  59.91895902294259\n"
     ]
    }
   ],
   "source": [
    "count_smaller = len(df_uk[df_uk['y']==0])\n",
    "count_bigger = len(df_uk[df_uk['y']==1])\n",
    "pct_of_smaller = count_smaller/(count_smaller+count_bigger)\n",
    "print(\"intraday price - imbalance price <0: \", pct_of_smaller*100)\n",
    "pct_of_bigger = count_bigger/(count_smaller+count_bigger)\n",
    "print(\"intraday price- imbalance price >= 0: \", pct_of_bigger*100)"
   ]
  },
  {
   "cell_type": "markdown",
   "metadata": {
    "colab_type": "text",
    "id": "hkO0uQT-FNUy"
   },
   "source": [
    "#### Dimentionality reduction\n"
   ]
  },
  {
   "cell_type": "markdown",
   "metadata": {
    "colab_type": "text",
    "id": "x_l4qNeoMWJD"
   },
   "source": [
    "##### High Correlation filter"
   ]
  },
  {
   "cell_type": "code",
   "execution_count": 201,
   "metadata": {
    "colab": {},
    "colab_type": "code",
    "id": "_v2FYtSvFUq2"
   },
   "outputs": [],
   "source": [
    "# Lower the dimentation: Combine/pick one/ + / x, shall look online # To-Do: https://pandas.pydata.org/pandas-docs/stable/reference/api/pandas.DataFrame.corr.html\n",
    "# 10 varables -> 5 or 4 (optimal) # To-Do: What is the threshold? 0.6  # Akarsha's task THXXXXXX XXXXX # https://towardsdatascience.com/illustrated-guide-to-lstms-and-gru-s-a-step-by-step-explanation-44e9eb85bf21\n",
    "# If can't identify corr, then use e.g. PCA."
   ]
  },
  {
   "cell_type": "code",
   "execution_count": 201,
   "metadata": {
    "colab": {},
    "colab_type": "code",
    "id": "n9J_CGpbuvSI"
   },
   "outputs": [],
   "source": []
  },
  {
   "cell_type": "code",
   "execution_count": 202,
   "metadata": {
    "colab": {
     "base_uri": "https://localhost:8080/",
     "height": 376
    },
    "colab_type": "code",
    "id": "OI6nSrgyFW3P",
    "outputId": "68ac7431-c24b-44cd-cec6-9806c8424730"
   },
   "outputs": [
    {
     "data": {
      "image/png": "[encoded data removed]",
      "text/plain": [
       "<Figure size 432x288 with 2 Axes>"
      ]
     },
     "metadata": {
      "needs_background": "light",
      "tags": []
     },
     "output_type": "display_data"
    }
   ],
   "source": [
    "df_uk_elewind_x = df_uk_elewind.drop('y', 1) # where is wind elexon?\n",
    "corrMatrix = df_uk_elewind_x.corr()\n",
    "sns.heatmap(corrMatrix, annot=True, center=1) \n",
    "plt.show()\n",
    "# (demand_ITSDO, demand_INDO) (solar_for, solar)  # TO-DO: threshold 80%, and take 60% -80% to do PCA and have new\n",
    "# Select just one: (demand_ITSDO, demand_INDO) (wind_total, wind_for_total) (solar, solar_for) -> demand_INDO, wind_total, solar\n",
    "# Use PCA: wind_total, wind_for_elexon, imbalance price, imbalance volume, intraday_price, imbalance volume, wind for total\n",
    "  # -> wind_for_elexon, imbalance price, imbalance volume, intraday_price,  wind for total"
   ]
  },
  {
   "cell_type": "code",
   "execution_count": 203,
   "metadata": {
    "colab": {
     "base_uri": "https://localhost:8080/",
     "height": 437
    },
    "colab_type": "code",
    "id": "MyJdjSapu03F",
    "outputId": "5e9bf0e1-9320-4bec-f8cf-11f4f5853177"
   },
   "outputs": [
    {
     "data": {
      "text/html": [
       "<div>\n",
       "<style scoped>\n",
       "    .dataframe tbody tr th:only-of-type {\n",
       "        vertical-align: middle;\n",
       "    }\n",
       "\n",
       "    .dataframe tbody tr th {\n",
       "        vertical-align: top;\n",
       "    }\n",
       "\n",
       "    .dataframe thead th {\n",
       "        text-align: right;\n",
       "    }\n",
       "</style>\n",
       "<table border=\"1\" class=\"dataframe\">\n",
       "  <thead>\n",
       "    <tr style=\"text-align: right;\">\n",
       "      <th></th>\n",
       "      <th>demand_INDO</th>\n",
       "      <th>wind_total</th>\n",
       "      <th>solar</th>\n",
       "    </tr>\n",
       "    <tr>\n",
       "      <th>timeblock</th>\n",
       "      <th></th>\n",
       "      <th></th>\n",
       "      <th></th>\n",
       "    </tr>\n",
       "  </thead>\n",
       "  <tbody>\n",
       "    <tr>\n",
       "      <th>2017-01-01 00:00:00</th>\n",
       "      <td>27239.0</td>\n",
       "      <td>4891.0</td>\n",
       "      <td>0.0</td>\n",
       "    </tr>\n",
       "    <tr>\n",
       "      <th>2017-01-01 00:30:00</th>\n",
       "      <td>27814.0</td>\n",
       "      <td>4595.0</td>\n",
       "      <td>0.0</td>\n",
       "    </tr>\n",
       "    <tr>\n",
       "      <th>2017-01-01 01:00:00</th>\n",
       "      <td>27453.0</td>\n",
       "      <td>4686.0</td>\n",
       "      <td>0.0</td>\n",
       "    </tr>\n",
       "    <tr>\n",
       "      <th>2017-01-01 01:30:00</th>\n",
       "      <td>26312.0</td>\n",
       "      <td>5439.0</td>\n",
       "      <td>0.0</td>\n",
       "    </tr>\n",
       "    <tr>\n",
       "      <th>2017-01-01 02:00:00</th>\n",
       "      <td>25289.0</td>\n",
       "      <td>5400.0</td>\n",
       "      <td>0.0</td>\n",
       "    </tr>\n",
       "    <tr>\n",
       "      <th>...</th>\n",
       "      <td>...</td>\n",
       "      <td>...</td>\n",
       "      <td>...</td>\n",
       "    </tr>\n",
       "    <tr>\n",
       "      <th>2019-12-31 21:30:00</th>\n",
       "      <td>29172.0</td>\n",
       "      <td>5254.0</td>\n",
       "      <td>0.0</td>\n",
       "    </tr>\n",
       "    <tr>\n",
       "      <th>2019-12-31 22:00:00</th>\n",
       "      <td>28126.0</td>\n",
       "      <td>5567.0</td>\n",
       "      <td>0.0</td>\n",
       "    </tr>\n",
       "    <tr>\n",
       "      <th>2019-12-31 22:30:00</th>\n",
       "      <td>27407.0</td>\n",
       "      <td>5553.0</td>\n",
       "      <td>0.0</td>\n",
       "    </tr>\n",
       "    <tr>\n",
       "      <th>2019-12-31 23:00:00</th>\n",
       "      <td>26636.0</td>\n",
       "      <td>5495.0</td>\n",
       "      <td>0.0</td>\n",
       "    </tr>\n",
       "    <tr>\n",
       "      <th>2019-12-31 23:30:00</th>\n",
       "      <td>26150.0</td>\n",
       "      <td>5398.0</td>\n",
       "      <td>0.0</td>\n",
       "    </tr>\n",
       "  </tbody>\n",
       "</table>\n",
       "<p>52566 rows × 3 columns</p>\n",
       "</div>"
      ],
      "text/plain": [
       "                     demand_INDO  wind_total  solar\n",
       "timeblock                                          \n",
       "2017-01-01 00:00:00      27239.0      4891.0    0.0\n",
       "2017-01-01 00:30:00      27814.0      4595.0    0.0\n",
       "2017-01-01 01:00:00      27453.0      4686.0    0.0\n",
       "2017-01-01 01:30:00      26312.0      5439.0    0.0\n",
       "2017-01-01 02:00:00      25289.0      5400.0    0.0\n",
       "...                          ...         ...    ...\n",
       "2019-12-31 21:30:00      29172.0      5254.0    0.0\n",
       "2019-12-31 22:00:00      28126.0      5567.0    0.0\n",
       "2019-12-31 22:30:00      27407.0      5553.0    0.0\n",
       "2019-12-31 23:00:00      26636.0      5495.0    0.0\n",
       "2019-12-31 23:30:00      26150.0      5398.0    0.0\n",
       "\n",
       "[52566 rows x 3 columns]"
      ]
     },
     "execution_count": 203,
     "metadata": {
      "tags": []
     },
     "output_type": "execute_result"
    }
   ],
   "source": [
    "df_uk_3var = df_uk[['demand_INDO', 'wind_total', 'solar']]\n",
    "df_uk_3var"
   ]
  },
  {
   "cell_type": "markdown",
   "metadata": {
    "colab_type": "text",
    "id": "bFOMThX7fAZh"
   },
   "source": [
    "##### PCA"
   ]
  },
  {
   "cell_type": "code",
   "execution_count": 204,
   "metadata": {
    "colab": {
     "base_uri": "https://localhost:8080/",
     "height": 289
    },
    "colab_type": "code",
    "id": "VC4l4vEOiM0k",
    "outputId": "b5cb3c95-50c2-4607-9b65-f18dd4f87058"
   },
   "outputs": [
    {
     "data": {
      "image/png": "[encoded data removed]",
      "text/plain": [
       "<Figure size 432x288 with 1 Axes>"
      ]
     },
     "metadata": {
      "needs_background": "light",
      "tags": []
     },
     "output_type": "display_data"
    }
   ],
   "source": [
    "from sklearn.decomposition import PCA\n",
    "df_uk_pca = df_uk[['imbalance_price', 'imbalance_volume','wind_for_total', 'wind_for_elexon', 'intraday_price']]\n",
    "\n",
    "pca = PCA().fit(df_uk[['imbalance_price', 'imbalance_volume','wind_for_total', 'wind_for_elexon', 'intraday_price']])\n",
    "plt.plot(np.cumsum(pca.explained_variance_ratio_))\n",
    "plt.xlabel('number of components')\n",
    "plt.ylabel('cumulative explained variance'); # Interesting: add ; eliminates the test \n",
    "# Result: 2 components already explains 99% variance; 4 explains almost 100%"
   ]
  },
  {
   "cell_type": "code",
   "execution_count": 205,
   "metadata": {
    "colab": {},
    "colab_type": "code",
    "id": "NIzaXyPme_m_"
   },
   "outputs": [],
   "source": [
    "# Before starting the analysis, we need to standardize the values for PCA\n",
    "from sklearn.preprocessing import StandardScaler \n",
    "features = [ # wind_for_elexon, imbalance price, imbalance volume, intraday_price,  wind for total\n",
    "       'imbalance_price', 'imbalance_volume','wind_for_total',\n",
    "       'wind_for_elexon', 'intraday_price']\n",
    "# Separating out the features\n",
    "x = df_uk.loc[:, features].values\n",
    "# Separating out the target\n",
    "y = df_uk.loc[:,['y']].values\n",
    "# Standardizing the features\n",
    "x = StandardScaler().fit_transform(x)"
   ]
  },
  {
   "cell_type": "code",
   "execution_count": 206,
   "metadata": {
    "colab": {
     "base_uri": "https://localhost:8080/",
     "height": 437
    },
    "colab_type": "code",
    "id": "JK59c5a_hURD",
    "outputId": "dedfc4ab-ce5f-4321-b9db-72f2690c5f46"
   },
   "outputs": [
    {
     "data": {
      "text/html": [
       "<div>\n",
       "<style scoped>\n",
       "    .dataframe tbody tr th:only-of-type {\n",
       "        vertical-align: middle;\n",
       "    }\n",
       "\n",
       "    .dataframe tbody tr th {\n",
       "        vertical-align: top;\n",
       "    }\n",
       "\n",
       "    .dataframe thead th {\n",
       "        text-align: right;\n",
       "    }\n",
       "</style>\n",
       "<table border=\"1\" class=\"dataframe\">\n",
       "  <thead>\n",
       "    <tr style=\"text-align: right;\">\n",
       "      <th></th>\n",
       "      <th>pc_1</th>\n",
       "      <th>pc_2</th>\n",
       "    </tr>\n",
       "    <tr>\n",
       "      <th>timeblock</th>\n",
       "      <th></th>\n",
       "      <th></th>\n",
       "    </tr>\n",
       "  </thead>\n",
       "  <tbody>\n",
       "    <tr>\n",
       "      <th>2017-01-01 00:00:00</th>\n",
       "      <td>-0.528806</td>\n",
       "      <td>-0.031950</td>\n",
       "    </tr>\n",
       "    <tr>\n",
       "      <th>2017-01-01 00:30:00</th>\n",
       "      <td>0.118386</td>\n",
       "      <td>0.119220</td>\n",
       "    </tr>\n",
       "    <tr>\n",
       "      <th>2017-01-01 01:00:00</th>\n",
       "      <td>-0.271481</td>\n",
       "      <td>0.139021</td>\n",
       "    </tr>\n",
       "    <tr>\n",
       "      <th>2017-01-01 01:30:00</th>\n",
       "      <td>-0.795801</td>\n",
       "      <td>-0.011947</td>\n",
       "    </tr>\n",
       "    <tr>\n",
       "      <th>2017-01-01 02:00:00</th>\n",
       "      <td>-0.839250</td>\n",
       "      <td>-0.019264</td>\n",
       "    </tr>\n",
       "    <tr>\n",
       "      <th>...</th>\n",
       "      <td>...</td>\n",
       "      <td>...</td>\n",
       "    </tr>\n",
       "    <tr>\n",
       "      <th>2019-12-31 21:30:00</th>\n",
       "      <td>-0.109031</td>\n",
       "      <td>0.450541</td>\n",
       "    </tr>\n",
       "    <tr>\n",
       "      <th>2019-12-31 22:00:00</th>\n",
       "      <td>-0.065824</td>\n",
       "      <td>0.490398</td>\n",
       "    </tr>\n",
       "    <tr>\n",
       "      <th>2019-12-31 22:30:00</th>\n",
       "      <td>-1.423609</td>\n",
       "      <td>0.299946</td>\n",
       "    </tr>\n",
       "    <tr>\n",
       "      <th>2019-12-31 23:00:00</th>\n",
       "      <td>-2.019064</td>\n",
       "      <td>0.195551</td>\n",
       "    </tr>\n",
       "    <tr>\n",
       "      <th>2019-12-31 23:30:00</th>\n",
       "      <td>-0.763053</td>\n",
       "      <td>0.397453</td>\n",
       "    </tr>\n",
       "  </tbody>\n",
       "</table>\n",
       "<p>52566 rows × 2 columns</p>\n",
       "</div>"
      ],
      "text/plain": [
       "                         pc_1      pc_2\n",
       "timeblock                              \n",
       "2017-01-01 00:00:00 -0.528806 -0.031950\n",
       "2017-01-01 00:30:00  0.118386  0.119220\n",
       "2017-01-01 01:00:00 -0.271481  0.139021\n",
       "2017-01-01 01:30:00 -0.795801 -0.011947\n",
       "2017-01-01 02:00:00 -0.839250 -0.019264\n",
       "...                       ...       ...\n",
       "2019-12-31 21:30:00 -0.109031  0.450541\n",
       "2019-12-31 22:00:00 -0.065824  0.490398\n",
       "2019-12-31 22:30:00 -1.423609  0.299946\n",
       "2019-12-31 23:00:00 -2.019064  0.195551\n",
       "2019-12-31 23:30:00 -0.763053  0.397453\n",
       "\n",
       "[52566 rows x 2 columns]"
      ]
     },
     "execution_count": 206,
     "metadata": {
      "tags": []
     },
     "output_type": "execute_result"
    }
   ],
   "source": [
    "from sklearn.decomposition import PCA\n",
    "pca = PCA(n_components=2)\n",
    "principalComponents = pca.fit_transform(x)\n",
    "principalDf = pd.DataFrame(data = principalComponents\n",
    "             , columns = ['pc_1', 'pc_2']) # these can be the new attributes\n",
    "principalDf.index = df_uk.index\n",
    "principalDf"
   ]
  },
  {
   "cell_type": "code",
   "execution_count": 207,
   "metadata": {
    "colab": {
     "base_uri": "https://localhost:8080/",
     "height": 437
    },
    "colab_type": "code",
    "id": "Gb5ZxGuEj96S",
    "outputId": "cde41a10-a718-4c2b-8bbd-eaf916d44d8e"
   },
   "outputs": [
    {
     "data": {
      "text/html": [
       "<div>\n",
       "<style scoped>\n",
       "    .dataframe tbody tr th:only-of-type {\n",
       "        vertical-align: middle;\n",
       "    }\n",
       "\n",
       "    .dataframe tbody tr th {\n",
       "        vertical-align: top;\n",
       "    }\n",
       "\n",
       "    .dataframe thead th {\n",
       "        text-align: right;\n",
       "    }\n",
       "</style>\n",
       "<table border=\"1\" class=\"dataframe\">\n",
       "  <thead>\n",
       "    <tr style=\"text-align: right;\">\n",
       "      <th></th>\n",
       "      <th>pc_1</th>\n",
       "      <th>pc_2</th>\n",
       "      <th>y</th>\n",
       "    </tr>\n",
       "    <tr>\n",
       "      <th>timeblock</th>\n",
       "      <th></th>\n",
       "      <th></th>\n",
       "      <th></th>\n",
       "    </tr>\n",
       "  </thead>\n",
       "  <tbody>\n",
       "    <tr>\n",
       "      <th>2017-01-01 00:00:00</th>\n",
       "      <td>-0.528806</td>\n",
       "      <td>-0.031950</td>\n",
       "      <td>1</td>\n",
       "    </tr>\n",
       "    <tr>\n",
       "      <th>2017-01-01 00:30:00</th>\n",
       "      <td>0.118386</td>\n",
       "      <td>0.119220</td>\n",
       "      <td>1</td>\n",
       "    </tr>\n",
       "    <tr>\n",
       "      <th>2017-01-01 01:00:00</th>\n",
       "      <td>-0.271481</td>\n",
       "      <td>0.139021</td>\n",
       "      <td>1</td>\n",
       "    </tr>\n",
       "    <tr>\n",
       "      <th>2017-01-01 01:30:00</th>\n",
       "      <td>-0.795801</td>\n",
       "      <td>-0.011947</td>\n",
       "      <td>1</td>\n",
       "    </tr>\n",
       "    <tr>\n",
       "      <th>2017-01-01 02:00:00</th>\n",
       "      <td>-0.839250</td>\n",
       "      <td>-0.019264</td>\n",
       "      <td>1</td>\n",
       "    </tr>\n",
       "    <tr>\n",
       "      <th>...</th>\n",
       "      <td>...</td>\n",
       "      <td>...</td>\n",
       "      <td>...</td>\n",
       "    </tr>\n",
       "    <tr>\n",
       "      <th>2019-12-31 21:30:00</th>\n",
       "      <td>-0.109031</td>\n",
       "      <td>0.450541</td>\n",
       "      <td>0</td>\n",
       "    </tr>\n",
       "    <tr>\n",
       "      <th>2019-12-31 22:00:00</th>\n",
       "      <td>-0.065824</td>\n",
       "      <td>0.490398</td>\n",
       "      <td>0</td>\n",
       "    </tr>\n",
       "    <tr>\n",
       "      <th>2019-12-31 22:30:00</th>\n",
       "      <td>-1.423609</td>\n",
       "      <td>0.299946</td>\n",
       "      <td>1</td>\n",
       "    </tr>\n",
       "    <tr>\n",
       "      <th>2019-12-31 23:00:00</th>\n",
       "      <td>-2.019064</td>\n",
       "      <td>0.195551</td>\n",
       "      <td>1</td>\n",
       "    </tr>\n",
       "    <tr>\n",
       "      <th>2019-12-31 23:30:00</th>\n",
       "      <td>-0.763053</td>\n",
       "      <td>0.397453</td>\n",
       "      <td>0</td>\n",
       "    </tr>\n",
       "  </tbody>\n",
       "</table>\n",
       "<p>52566 rows × 3 columns</p>\n",
       "</div>"
      ],
      "text/plain": [
       "                         pc_1      pc_2  y\n",
       "timeblock                                 \n",
       "2017-01-01 00:00:00 -0.528806 -0.031950  1\n",
       "2017-01-01 00:30:00  0.118386  0.119220  1\n",
       "2017-01-01 01:00:00 -0.271481  0.139021  1\n",
       "2017-01-01 01:30:00 -0.795801 -0.011947  1\n",
       "2017-01-01 02:00:00 -0.839250 -0.019264  1\n",
       "...                       ...       ... ..\n",
       "2019-12-31 21:30:00 -0.109031  0.450541  0\n",
       "2019-12-31 22:00:00 -0.065824  0.490398  0\n",
       "2019-12-31 22:30:00 -1.423609  0.299946  1\n",
       "2019-12-31 23:00:00 -2.019064  0.195551  1\n",
       "2019-12-31 23:30:00 -0.763053  0.397453  0\n",
       "\n",
       "[52566 rows x 3 columns]"
      ]
     },
     "execution_count": 207,
     "metadata": {
      "tags": []
     },
     "output_type": "execute_result"
    }
   ],
   "source": [
    "finalDf = pd.concat([principalDf, df_uk['y']], axis = 1)\n",
    "finalDf # Solved: Why only NaN in y column & many NaN in last rows in other columns? -> due to wrong indexing above"
   ]
  },
  {
   "cell_type": "code",
   "execution_count": 208,
   "metadata": {
    "colab": {
     "base_uri": "https://localhost:8080/",
     "height": 528
    },
    "colab_type": "code",
    "id": "3Fj8B00hhVlh",
    "outputId": "dfa87693-fd37-4944-9d03-69def3445bc2"
   },
   "outputs": [
    {
     "data": {
      "image/png": "[encoded data removed]",
      "text/plain": [
       "<Figure size 576x576 with 1 Axes>"
      ]
     },
     "metadata": {
      "needs_background": "light",
      "tags": []
     },
     "output_type": "display_data"
    }
   ],
   "source": [
    "fig = plt.figure(figsize = (8,8)) # not working for 4 dimentions\n",
    "ax = fig.add_subplot(1,1,1) \n",
    "ax.set_xlabel('Principal Component 1', fontsize = 15)\n",
    "ax.set_ylabel('Principal Component 2', fontsize = 15)\n",
    "ax.set_title('2 component PCA', fontsize = 20)\n",
    "targets = [1, 0]\n",
    "colors = ['b', 'r']\n",
    "for target, color in zip(targets,colors):\n",
    "    indicesToKeep = finalDf['y'] == target\n",
    "    ax.scatter(finalDf.loc[indicesToKeep, 'pc_1']\n",
    "               , finalDf.loc[indicesToKeep, 'pc_2']\n",
    "               , c = color\n",
    "               , s = 50)\n",
    "ax.legend(targets)\n",
    "ax.grid()"
   ]
  },
  {
   "cell_type": "code",
   "execution_count": 209,
   "metadata": {
    "colab": {
     "base_uri": "https://localhost:8080/",
     "height": 35
    },
    "colab_type": "code",
    "id": "5adg7n56hjgq",
    "outputId": "ac0141ee-e743-4c8e-d0ec-34d1e4cdac0b"
   },
   "outputs": [
    {
     "data": {
      "text/plain": [
       "array([0.4018146 , 0.32304186])"
      ]
     },
     "execution_count": 209,
     "metadata": {
      "tags": []
     },
     "output_type": "execute_result"
    }
   ],
   "source": [
    "pca.explained_variance_ratio_"
   ]
  },
  {
   "cell_type": "code",
   "execution_count": 210,
   "metadata": {
    "colab": {
     "base_uri": "https://localhost:8080/",
     "height": 437
    },
    "colab_type": "code",
    "id": "CsaDt6VwuiLa",
    "outputId": "fdf3eadb-3339-4ca0-8c54-4ae44430b39c"
   },
   "outputs": [
    {
     "data": {
      "text/html": [
       "<div>\n",
       "<style scoped>\n",
       "    .dataframe tbody tr th:only-of-type {\n",
       "        vertical-align: middle;\n",
       "    }\n",
       "\n",
       "    .dataframe tbody tr th {\n",
       "        vertical-align: top;\n",
       "    }\n",
       "\n",
       "    .dataframe thead th {\n",
       "        text-align: right;\n",
       "    }\n",
       "</style>\n",
       "<table border=\"1\" class=\"dataframe\">\n",
       "  <thead>\n",
       "    <tr style=\"text-align: right;\">\n",
       "      <th></th>\n",
       "      <th>pc_1</th>\n",
       "      <th>pc_2</th>\n",
       "      <th>y</th>\n",
       "      <th>demand_INDO</th>\n",
       "      <th>wind_total</th>\n",
       "      <th>solar</th>\n",
       "    </tr>\n",
       "    <tr>\n",
       "      <th>timeblock</th>\n",
       "      <th></th>\n",
       "      <th></th>\n",
       "      <th></th>\n",
       "      <th></th>\n",
       "      <th></th>\n",
       "      <th></th>\n",
       "    </tr>\n",
       "  </thead>\n",
       "  <tbody>\n",
       "    <tr>\n",
       "      <th>2017-01-01 00:00:00</th>\n",
       "      <td>-0.528806</td>\n",
       "      <td>-0.031950</td>\n",
       "      <td>1</td>\n",
       "      <td>27239.0</td>\n",
       "      <td>4891.0</td>\n",
       "      <td>0.0</td>\n",
       "    </tr>\n",
       "    <tr>\n",
       "      <th>2017-01-01 00:30:00</th>\n",
       "      <td>0.118386</td>\n",
       "      <td>0.119220</td>\n",
       "      <td>1</td>\n",
       "      <td>27814.0</td>\n",
       "      <td>4595.0</td>\n",
       "      <td>0.0</td>\n",
       "    </tr>\n",
       "    <tr>\n",
       "      <th>2017-01-01 01:00:00</th>\n",
       "      <td>-0.271481</td>\n",
       "      <td>0.139021</td>\n",
       "      <td>1</td>\n",
       "      <td>27453.0</td>\n",
       "      <td>4686.0</td>\n",
       "      <td>0.0</td>\n",
       "    </tr>\n",
       "    <tr>\n",
       "      <th>2017-01-01 01:30:00</th>\n",
       "      <td>-0.795801</td>\n",
       "      <td>-0.011947</td>\n",
       "      <td>1</td>\n",
       "      <td>26312.0</td>\n",
       "      <td>5439.0</td>\n",
       "      <td>0.0</td>\n",
       "    </tr>\n",
       "    <tr>\n",
       "      <th>2017-01-01 02:00:00</th>\n",
       "      <td>-0.839250</td>\n",
       "      <td>-0.019264</td>\n",
       "      <td>1</td>\n",
       "      <td>25289.0</td>\n",
       "      <td>5400.0</td>\n",
       "      <td>0.0</td>\n",
       "    </tr>\n",
       "    <tr>\n",
       "      <th>...</th>\n",
       "      <td>...</td>\n",
       "      <td>...</td>\n",
       "      <td>...</td>\n",
       "      <td>...</td>\n",
       "      <td>...</td>\n",
       "      <td>...</td>\n",
       "    </tr>\n",
       "    <tr>\n",
       "      <th>2019-12-31 21:30:00</th>\n",
       "      <td>-0.109031</td>\n",
       "      <td>0.450541</td>\n",
       "      <td>0</td>\n",
       "      <td>29172.0</td>\n",
       "      <td>5254.0</td>\n",
       "      <td>0.0</td>\n",
       "    </tr>\n",
       "    <tr>\n",
       "      <th>2019-12-31 22:00:00</th>\n",
       "      <td>-0.065824</td>\n",
       "      <td>0.490398</td>\n",
       "      <td>0</td>\n",
       "      <td>28126.0</td>\n",
       "      <td>5567.0</td>\n",
       "      <td>0.0</td>\n",
       "    </tr>\n",
       "    <tr>\n",
       "      <th>2019-12-31 22:30:00</th>\n",
       "      <td>-1.423609</td>\n",
       "      <td>0.299946</td>\n",
       "      <td>1</td>\n",
       "      <td>27407.0</td>\n",
       "      <td>5553.0</td>\n",
       "      <td>0.0</td>\n",
       "    </tr>\n",
       "    <tr>\n",
       "      <th>2019-12-31 23:00:00</th>\n",
       "      <td>-2.019064</td>\n",
       "      <td>0.195551</td>\n",
       "      <td>1</td>\n",
       "      <td>26636.0</td>\n",
       "      <td>5495.0</td>\n",
       "      <td>0.0</td>\n",
       "    </tr>\n",
       "    <tr>\n",
       "      <th>2019-12-31 23:30:00</th>\n",
       "      <td>-0.763053</td>\n",
       "      <td>0.397453</td>\n",
       "      <td>0</td>\n",
       "      <td>26150.0</td>\n",
       "      <td>5398.0</td>\n",
       "      <td>0.0</td>\n",
       "    </tr>\n",
       "  </tbody>\n",
       "</table>\n",
       "<p>52566 rows × 6 columns</p>\n",
       "</div>"
      ],
      "text/plain": [
       "                         pc_1      pc_2  y  demand_INDO  wind_total  solar\n",
       "timeblock                                                                 \n",
       "2017-01-01 00:00:00 -0.528806 -0.031950  1      27239.0      4891.0    0.0\n",
       "2017-01-01 00:30:00  0.118386  0.119220  1      27814.0      4595.0    0.0\n",
       "2017-01-01 01:00:00 -0.271481  0.139021  1      27453.0      4686.0    0.0\n",
       "2017-01-01 01:30:00 -0.795801 -0.011947  1      26312.0      5439.0    0.0\n",
       "2017-01-01 02:00:00 -0.839250 -0.019264  1      25289.0      5400.0    0.0\n",
       "...                       ...       ... ..          ...         ...    ...\n",
       "2019-12-31 21:30:00 -0.109031  0.450541  0      29172.0      5254.0    0.0\n",
       "2019-12-31 22:00:00 -0.065824  0.490398  0      28126.0      5567.0    0.0\n",
       "2019-12-31 22:30:00 -1.423609  0.299946  1      27407.0      5553.0    0.0\n",
       "2019-12-31 23:00:00 -2.019064  0.195551  1      26636.0      5495.0    0.0\n",
       "2019-12-31 23:30:00 -0.763053  0.397453  0      26150.0      5398.0    0.0\n",
       "\n",
       "[52566 rows x 6 columns]"
      ]
     },
     "execution_count": 210,
     "metadata": {
      "tags": []
     },
     "output_type": "execute_result"
    }
   ],
   "source": [
    "# combine the new two attributes with the original dataset\n",
    "df_uk_fin = pd.concat([finalDf, df_uk_3var], axis = 1)\n",
    "df_uk_fin"
   ]
  },
  {
   "cell_type": "markdown",
   "metadata": {
    "colab_type": "text",
    "id": "BEXGUEMHMabB"
   },
   "source": [
    "##### Random Forest"
   ]
  },
  {
   "cell_type": "code",
   "execution_count": 211,
   "metadata": {
    "colab": {},
    "colab_type": "code",
    "id": "ZX_jtVHOMgaf"
   },
   "outputs": [],
   "source": [
    "# # The following code crushes the session due to RAM\n",
    "# from sklearn.ensemble import RandomForestRegressor\n",
    "# model = RandomForestRegressor()\n",
    "# df_uk_with_wind_inde = pd.get_dummies(df_uk_with_wind_inde)\n",
    "# model.fit(df_uk_with_wind_inde,df_uk_with_wind['y'])"
   ]
  },
  {
   "cell_type": "code",
   "execution_count": 212,
   "metadata": {
    "colab": {},
    "colab_type": "code",
    "id": "fVtpjDHMOaAk"
   },
   "outputs": [],
   "source": [
    "# features = df_uk_with_wind_inde.columns\n",
    "# importances = model.feature_importances_\n",
    "# indices = np.argsort(importances)[-4:]  # top 10 features\n",
    "# plt.title('Feature Importances')\n",
    "# plt.barh(range(len(indices)), importances[indices], color='b', align='center')\n",
    "# plt.yticks(range(len(indices)), [features[i] for i in indices])\n",
    "# plt.xlabel('Relative Importance')\n",
    "# plt.show()"
   ]
  },
  {
   "cell_type": "code",
   "execution_count": 213,
   "metadata": {
    "colab": {},
    "colab_type": "code",
    "id": "YSa4VXdiPayg"
   },
   "outputs": [],
   "source": [
    "# # Use this code alternatively\n",
    "# from sklearn.feature_selection import SelectFromModel\n",
    "# feature = SelectFromModel(model)\n",
    "# Fit = feature.fit(df_uk_with_wind_inde,df_uk_with_wind['y'])"
   ]
  },
  {
   "cell_type": "markdown",
   "metadata": {
    "colab_type": "text",
    "id": "X-zHe1kFwTdq"
   },
   "source": [
    "#### Dimentionality reduction"
   ]
  },
  {
   "cell_type": "code",
   "execution_count": 214,
   "metadata": {
    "colab": {},
    "colab_type": "code",
    "id": "_qXipzyiPkqG"
   },
   "outputs": [],
   "source": [
    "# (demand_ITSDO, demand_INDO) (solar_for, solar) (wind_for_total, wind_total) (imbalance price, intraday price) (wind_for_total, wind_for_elexon)"
   ]
  },
  {
   "cell_type": "code",
   "execution_count": 215,
   "metadata": {
    "colab": {},
    "colab_type": "code",
    "id": "FHaHsau-xjYR"
   },
   "outputs": [],
   "source": [
    "# df_uk_4var = df_uk[['demand_INDO','intraday_price', 'wind_total', 'solar', 'y']]\n",
    "# df_uk_4var"
   ]
  },
  {
   "cell_type": "markdown",
   "metadata": {
    "colab_type": "text",
    "id": "VMe3f5am9664"
   },
   "source": [
    "#### Feature engineering\n",
    "\n",
    "\n",
    "##### 1. UK electricity demand (INDO): 15 min danach use before (including) t-2\n",
    "##### 2. UK electricity demand (ITSDO): 15 min danach t-2\n",
    "##### 3. UK wind power generation: 60 Min danach t-4\n",
    "##### 4. UK solar generation: 60 Min danach t-4\n",
    "##### 5. UK intraday price: 30 Min danach t-3\n",
    "##### 6. UK intraday volume: 30 Min danach t-3\n",
    "##### 7. UK imbalance price? 1 week? = t-336 \n",
    "\n"
   ]
  },
  {
   "cell_type": "code",
   "execution_count": 216,
   "metadata": {
    "colab": {},
    "colab_type": "code",
    "id": "a68qHCDcZTG1"
   },
   "outputs": [],
   "source": [
    "# Ideas for features:\n",
    "# create new columns using + &\n",
    "# create weekday & weekend dummies, season dummies"
   ]
  },
  {
   "cell_type": "code",
   "execution_count": 217,
   "metadata": {
    "colab": {
     "base_uri": "https://localhost:8080/",
     "height": 332
    },
    "colab_type": "code",
    "id": "12hVZCm6ydfO",
    "outputId": "c4ddd6bf-8ec9-404a-977c-297e78f0c04f"
   },
   "outputs": [
    {
     "data": {
      "text/html": [
       "<div>\n",
       "<style scoped>\n",
       "    .dataframe tbody tr th:only-of-type {\n",
       "        vertical-align: middle;\n",
       "    }\n",
       "\n",
       "    .dataframe tbody tr th {\n",
       "        vertical-align: top;\n",
       "    }\n",
       "\n",
       "    .dataframe thead th {\n",
       "        text-align: right;\n",
       "    }\n",
       "</style>\n",
       "<table border=\"1\" class=\"dataframe\">\n",
       "  <thead>\n",
       "    <tr style=\"text-align: right;\">\n",
       "      <th></th>\n",
       "      <th>pc_1</th>\n",
       "      <th>pc_2</th>\n",
       "      <th>y</th>\n",
       "      <th>demand_INDO</th>\n",
       "      <th>wind_total</th>\n",
       "      <th>solar</th>\n",
       "      <th>demand_INDO (t-2)</th>\n",
       "      <th>demand_INDO (t-3)</th>\n",
       "      <th>demand_INDO (t-4)</th>\n",
       "      <th>demand_INDO (t-5)</th>\n",
       "      <th>demand_INDO (t-6)</th>\n",
       "    </tr>\n",
       "    <tr>\n",
       "      <th>timeblock</th>\n",
       "      <th></th>\n",
       "      <th></th>\n",
       "      <th></th>\n",
       "      <th></th>\n",
       "      <th></th>\n",
       "      <th></th>\n",
       "      <th></th>\n",
       "      <th></th>\n",
       "      <th></th>\n",
       "      <th></th>\n",
       "      <th></th>\n",
       "    </tr>\n",
       "  </thead>\n",
       "  <tbody>\n",
       "    <tr>\n",
       "      <th>2017-01-01 00:00:00</th>\n",
       "      <td>-0.528806</td>\n",
       "      <td>-0.031950</td>\n",
       "      <td>1</td>\n",
       "      <td>27239.0</td>\n",
       "      <td>4891.0</td>\n",
       "      <td>0.0</td>\n",
       "      <td>NaN</td>\n",
       "      <td>NaN</td>\n",
       "      <td>NaN</td>\n",
       "      <td>NaN</td>\n",
       "      <td>NaN</td>\n",
       "    </tr>\n",
       "    <tr>\n",
       "      <th>2017-01-01 00:30:00</th>\n",
       "      <td>0.118386</td>\n",
       "      <td>0.119220</td>\n",
       "      <td>1</td>\n",
       "      <td>27814.0</td>\n",
       "      <td>4595.0</td>\n",
       "      <td>0.0</td>\n",
       "      <td>NaN</td>\n",
       "      <td>NaN</td>\n",
       "      <td>NaN</td>\n",
       "      <td>NaN</td>\n",
       "      <td>NaN</td>\n",
       "    </tr>\n",
       "    <tr>\n",
       "      <th>2017-01-01 01:00:00</th>\n",
       "      <td>-0.271481</td>\n",
       "      <td>0.139021</td>\n",
       "      <td>1</td>\n",
       "      <td>27453.0</td>\n",
       "      <td>4686.0</td>\n",
       "      <td>0.0</td>\n",
       "      <td>27239.0</td>\n",
       "      <td>NaN</td>\n",
       "      <td>NaN</td>\n",
       "      <td>NaN</td>\n",
       "      <td>NaN</td>\n",
       "    </tr>\n",
       "    <tr>\n",
       "      <th>2017-01-01 01:30:00</th>\n",
       "      <td>-0.795801</td>\n",
       "      <td>-0.011947</td>\n",
       "      <td>1</td>\n",
       "      <td>26312.0</td>\n",
       "      <td>5439.0</td>\n",
       "      <td>0.0</td>\n",
       "      <td>27814.0</td>\n",
       "      <td>27239.0</td>\n",
       "      <td>NaN</td>\n",
       "      <td>NaN</td>\n",
       "      <td>NaN</td>\n",
       "    </tr>\n",
       "    <tr>\n",
       "      <th>2017-01-01 02:00:00</th>\n",
       "      <td>-0.839250</td>\n",
       "      <td>-0.019264</td>\n",
       "      <td>1</td>\n",
       "      <td>25289.0</td>\n",
       "      <td>5400.0</td>\n",
       "      <td>0.0</td>\n",
       "      <td>27453.0</td>\n",
       "      <td>27814.0</td>\n",
       "      <td>27239.0</td>\n",
       "      <td>NaN</td>\n",
       "      <td>NaN</td>\n",
       "    </tr>\n",
       "  </tbody>\n",
       "</table>\n",
       "</div>"
      ],
      "text/plain": [
       "                         pc_1      pc_2  ...  demand_INDO (t-5)  demand_INDO (t-6)\n",
       "timeblock                                ...                                      \n",
       "2017-01-01 00:00:00 -0.528806 -0.031950  ...                NaN                NaN\n",
       "2017-01-01 00:30:00  0.118386  0.119220  ...                NaN                NaN\n",
       "2017-01-01 01:00:00 -0.271481  0.139021  ...                NaN                NaN\n",
       "2017-01-01 01:30:00 -0.795801 -0.011947  ...                NaN                NaN\n",
       "2017-01-01 02:00:00 -0.839250 -0.019264  ...                NaN                NaN\n",
       "\n",
       "[5 rows x 11 columns]"
      ]
     },
     "execution_count": 217,
     "metadata": {
      "tags": []
     },
     "output_type": "execute_result"
    }
   ],
   "source": [
    "# Create t-2, t-3... columns\n",
    "lags = range(2, 7)  # 5 lags\n",
    "\n",
    "df_uk_fin = df_uk_fin.assign(**{ # Jeffrey: How does this work?\n",
    "    '{} (t-{})'.format(col, t): df_uk_fin[col].shift(t)\n",
    "    for t in lags\n",
    "    for col in df_uk_fin[['demand_INDO']]\n",
    "})\n",
    "\n",
    "df_uk_fin.head()"
   ]
  },
  {
   "cell_type": "code",
   "execution_count": 218,
   "metadata": {
    "colab": {
     "base_uri": "https://localhost:8080/",
     "height": 352
    },
    "colab_type": "code",
    "id": "83D9uBzKzLkQ",
    "outputId": "9644f662-1e0f-453e-8773-79785a687dce"
   },
   "outputs": [
    {
     "data": {
      "text/html": [
       "<div>\n",
       "<style scoped>\n",
       "    .dataframe tbody tr th:only-of-type {\n",
       "        vertical-align: middle;\n",
       "    }\n",
       "\n",
       "    .dataframe tbody tr th {\n",
       "        vertical-align: top;\n",
       "    }\n",
       "\n",
       "    .dataframe thead th {\n",
       "        text-align: right;\n",
       "    }\n",
       "</style>\n",
       "<table border=\"1\" class=\"dataframe\">\n",
       "  <thead>\n",
       "    <tr style=\"text-align: right;\">\n",
       "      <th></th>\n",
       "      <th>pc_1</th>\n",
       "      <th>pc_2</th>\n",
       "      <th>y</th>\n",
       "      <th>demand_INDO</th>\n",
       "      <th>wind_total</th>\n",
       "      <th>solar</th>\n",
       "      <th>demand_INDO (t-2)</th>\n",
       "      <th>demand_INDO (t-3)</th>\n",
       "      <th>demand_INDO (t-4)</th>\n",
       "      <th>demand_INDO (t-5)</th>\n",
       "      <th>demand_INDO (t-6)</th>\n",
       "      <th>wind_total (t-4)</th>\n",
       "      <th>solar (t-4)</th>\n",
       "      <th>wind_total (t-5)</th>\n",
       "      <th>solar (t-5)</th>\n",
       "      <th>wind_total (t-6)</th>\n",
       "      <th>solar (t-6)</th>\n",
       "      <th>wind_total (t-7)</th>\n",
       "      <th>solar (t-7)</th>\n",
       "      <th>wind_total (t-8)</th>\n",
       "      <th>solar (t-8)</th>\n",
       "    </tr>\n",
       "    <tr>\n",
       "      <th>timeblock</th>\n",
       "      <th></th>\n",
       "      <th></th>\n",
       "      <th></th>\n",
       "      <th></th>\n",
       "      <th></th>\n",
       "      <th></th>\n",
       "      <th></th>\n",
       "      <th></th>\n",
       "      <th></th>\n",
       "      <th></th>\n",
       "      <th></th>\n",
       "      <th></th>\n",
       "      <th></th>\n",
       "      <th></th>\n",
       "      <th></th>\n",
       "      <th></th>\n",
       "      <th></th>\n",
       "      <th></th>\n",
       "      <th></th>\n",
       "      <th></th>\n",
       "      <th></th>\n",
       "    </tr>\n",
       "  </thead>\n",
       "  <tbody>\n",
       "    <tr>\n",
       "      <th>2017-01-01 00:00:00</th>\n",
       "      <td>-0.528806</td>\n",
       "      <td>-0.031950</td>\n",
       "      <td>1</td>\n",
       "      <td>27239.0</td>\n",
       "      <td>4891.0</td>\n",
       "      <td>0.0</td>\n",
       "      <td>NaN</td>\n",
       "      <td>NaN</td>\n",
       "      <td>NaN</td>\n",
       "      <td>NaN</td>\n",
       "      <td>NaN</td>\n",
       "      <td>NaN</td>\n",
       "      <td>NaN</td>\n",
       "      <td>NaN</td>\n",
       "      <td>NaN</td>\n",
       "      <td>NaN</td>\n",
       "      <td>NaN</td>\n",
       "      <td>NaN</td>\n",
       "      <td>NaN</td>\n",
       "      <td>NaN</td>\n",
       "      <td>NaN</td>\n",
       "    </tr>\n",
       "    <tr>\n",
       "      <th>2017-01-01 00:30:00</th>\n",
       "      <td>0.118386</td>\n",
       "      <td>0.119220</td>\n",
       "      <td>1</td>\n",
       "      <td>27814.0</td>\n",
       "      <td>4595.0</td>\n",
       "      <td>0.0</td>\n",
       "      <td>NaN</td>\n",
       "      <td>NaN</td>\n",
       "      <td>NaN</td>\n",
       "      <td>NaN</td>\n",
       "      <td>NaN</td>\n",
       "      <td>NaN</td>\n",
       "      <td>NaN</td>\n",
       "      <td>NaN</td>\n",
       "      <td>NaN</td>\n",
       "      <td>NaN</td>\n",
       "      <td>NaN</td>\n",
       "      <td>NaN</td>\n",
       "      <td>NaN</td>\n",
       "      <td>NaN</td>\n",
       "      <td>NaN</td>\n",
       "    </tr>\n",
       "    <tr>\n",
       "      <th>2017-01-01 01:00:00</th>\n",
       "      <td>-0.271481</td>\n",
       "      <td>0.139021</td>\n",
       "      <td>1</td>\n",
       "      <td>27453.0</td>\n",
       "      <td>4686.0</td>\n",
       "      <td>0.0</td>\n",
       "      <td>27239.0</td>\n",
       "      <td>NaN</td>\n",
       "      <td>NaN</td>\n",
       "      <td>NaN</td>\n",
       "      <td>NaN</td>\n",
       "      <td>NaN</td>\n",
       "      <td>NaN</td>\n",
       "      <td>NaN</td>\n",
       "      <td>NaN</td>\n",
       "      <td>NaN</td>\n",
       "      <td>NaN</td>\n",
       "      <td>NaN</td>\n",
       "      <td>NaN</td>\n",
       "      <td>NaN</td>\n",
       "      <td>NaN</td>\n",
       "    </tr>\n",
       "    <tr>\n",
       "      <th>2017-01-01 01:30:00</th>\n",
       "      <td>-0.795801</td>\n",
       "      <td>-0.011947</td>\n",
       "      <td>1</td>\n",
       "      <td>26312.0</td>\n",
       "      <td>5439.0</td>\n",
       "      <td>0.0</td>\n",
       "      <td>27814.0</td>\n",
       "      <td>27239.0</td>\n",
       "      <td>NaN</td>\n",
       "      <td>NaN</td>\n",
       "      <td>NaN</td>\n",
       "      <td>NaN</td>\n",
       "      <td>NaN</td>\n",
       "      <td>NaN</td>\n",
       "      <td>NaN</td>\n",
       "      <td>NaN</td>\n",
       "      <td>NaN</td>\n",
       "      <td>NaN</td>\n",
       "      <td>NaN</td>\n",
       "      <td>NaN</td>\n",
       "      <td>NaN</td>\n",
       "    </tr>\n",
       "    <tr>\n",
       "      <th>2017-01-01 02:00:00</th>\n",
       "      <td>-0.839250</td>\n",
       "      <td>-0.019264</td>\n",
       "      <td>1</td>\n",
       "      <td>25289.0</td>\n",
       "      <td>5400.0</td>\n",
       "      <td>0.0</td>\n",
       "      <td>27453.0</td>\n",
       "      <td>27814.0</td>\n",
       "      <td>27239.0</td>\n",
       "      <td>NaN</td>\n",
       "      <td>NaN</td>\n",
       "      <td>4891.0</td>\n",
       "      <td>0.0</td>\n",
       "      <td>NaN</td>\n",
       "      <td>NaN</td>\n",
       "      <td>NaN</td>\n",
       "      <td>NaN</td>\n",
       "      <td>NaN</td>\n",
       "      <td>NaN</td>\n",
       "      <td>NaN</td>\n",
       "      <td>NaN</td>\n",
       "    </tr>\n",
       "  </tbody>\n",
       "</table>\n",
       "</div>"
      ],
      "text/plain": [
       "                         pc_1      pc_2  ...  wind_total (t-8)  solar (t-8)\n",
       "timeblock                                ...                               \n",
       "2017-01-01 00:00:00 -0.528806 -0.031950  ...               NaN          NaN\n",
       "2017-01-01 00:30:00  0.118386  0.119220  ...               NaN          NaN\n",
       "2017-01-01 01:00:00 -0.271481  0.139021  ...               NaN          NaN\n",
       "2017-01-01 01:30:00 -0.795801 -0.011947  ...               NaN          NaN\n",
       "2017-01-01 02:00:00 -0.839250 -0.019264  ...               NaN          NaN\n",
       "\n",
       "[5 rows x 21 columns]"
      ]
     },
     "execution_count": 218,
     "metadata": {
      "tags": []
     },
     "output_type": "execute_result"
    }
   ],
   "source": [
    "lags = range(4, 9)  # 5 lags\n",
    "\n",
    "df_uk_fin = df_uk_fin.assign(**{ # Jeffrey: How does this work?\n",
    "    '{} (t-{})'.format(col, t): df_uk_fin[col].shift(t)\n",
    "    for t in lags\n",
    "    for col in df_uk_fin[['wind_total', 'solar']]\n",
    "})\n",
    "\n",
    "df_uk_fin.head()"
   ]
  },
  {
   "cell_type": "code",
   "execution_count": 219,
   "metadata": {
    "colab": {
     "base_uri": "https://localhost:8080/",
     "height": 369
    },
    "colab_type": "code",
    "id": "5d72CxPAwtgZ",
    "outputId": "b87cf475-3aa3-4df9-baef-c6a1c52dd7fc"
   },
   "outputs": [
    {
     "data": {
      "text/html": [
       "<div>\n",
       "<style scoped>\n",
       "    .dataframe tbody tr th:only-of-type {\n",
       "        vertical-align: middle;\n",
       "    }\n",
       "\n",
       "    .dataframe tbody tr th {\n",
       "        vertical-align: top;\n",
       "    }\n",
       "\n",
       "    .dataframe thead th {\n",
       "        text-align: right;\n",
       "    }\n",
       "</style>\n",
       "<table border=\"1\" class=\"dataframe\">\n",
       "  <thead>\n",
       "    <tr style=\"text-align: right;\">\n",
       "      <th></th>\n",
       "      <th>pc_1</th>\n",
       "      <th>pc_2</th>\n",
       "      <th>y</th>\n",
       "      <th>demand_INDO</th>\n",
       "      <th>wind_total</th>\n",
       "      <th>solar</th>\n",
       "      <th>demand_INDO (t-2)</th>\n",
       "      <th>demand_INDO (t-3)</th>\n",
       "      <th>demand_INDO (t-4)</th>\n",
       "      <th>demand_INDO (t-5)</th>\n",
       "      <th>demand_INDO (t-6)</th>\n",
       "      <th>wind_total (t-4)</th>\n",
       "      <th>solar (t-4)</th>\n",
       "      <th>wind_total (t-5)</th>\n",
       "      <th>solar (t-5)</th>\n",
       "      <th>wind_total (t-6)</th>\n",
       "      <th>solar (t-6)</th>\n",
       "      <th>wind_total (t-7)</th>\n",
       "      <th>solar (t-7)</th>\n",
       "      <th>wind_total (t-8)</th>\n",
       "      <th>solar (t-8)</th>\n",
       "      <th>pc_1 (t-3)</th>\n",
       "      <th>pc_2 (t-3)</th>\n",
       "      <th>pc_1 (t-4)</th>\n",
       "      <th>pc_2 (t-4)</th>\n",
       "      <th>pc_1 (t-5)</th>\n",
       "      <th>pc_2 (t-5)</th>\n",
       "      <th>pc_1 (t-6)</th>\n",
       "      <th>pc_2 (t-6)</th>\n",
       "      <th>pc_1 (t-7)</th>\n",
       "      <th>pc_2 (t-7)</th>\n",
       "    </tr>\n",
       "    <tr>\n",
       "      <th>timeblock</th>\n",
       "      <th></th>\n",
       "      <th></th>\n",
       "      <th></th>\n",
       "      <th></th>\n",
       "      <th></th>\n",
       "      <th></th>\n",
       "      <th></th>\n",
       "      <th></th>\n",
       "      <th></th>\n",
       "      <th></th>\n",
       "      <th></th>\n",
       "      <th></th>\n",
       "      <th></th>\n",
       "      <th></th>\n",
       "      <th></th>\n",
       "      <th></th>\n",
       "      <th></th>\n",
       "      <th></th>\n",
       "      <th></th>\n",
       "      <th></th>\n",
       "      <th></th>\n",
       "      <th></th>\n",
       "      <th></th>\n",
       "      <th></th>\n",
       "      <th></th>\n",
       "      <th></th>\n",
       "      <th></th>\n",
       "      <th></th>\n",
       "      <th></th>\n",
       "      <th></th>\n",
       "      <th></th>\n",
       "    </tr>\n",
       "  </thead>\n",
       "  <tbody>\n",
       "    <tr>\n",
       "      <th>2017-01-01 00:00:00</th>\n",
       "      <td>-0.528806</td>\n",
       "      <td>-0.031950</td>\n",
       "      <td>1</td>\n",
       "      <td>27239.0</td>\n",
       "      <td>4891.0</td>\n",
       "      <td>0.0</td>\n",
       "      <td>NaN</td>\n",
       "      <td>NaN</td>\n",
       "      <td>NaN</td>\n",
       "      <td>NaN</td>\n",
       "      <td>NaN</td>\n",
       "      <td>NaN</td>\n",
       "      <td>NaN</td>\n",
       "      <td>NaN</td>\n",
       "      <td>NaN</td>\n",
       "      <td>NaN</td>\n",
       "      <td>NaN</td>\n",
       "      <td>NaN</td>\n",
       "      <td>NaN</td>\n",
       "      <td>NaN</td>\n",
       "      <td>NaN</td>\n",
       "      <td>NaN</td>\n",
       "      <td>NaN</td>\n",
       "      <td>NaN</td>\n",
       "      <td>NaN</td>\n",
       "      <td>NaN</td>\n",
       "      <td>NaN</td>\n",
       "      <td>NaN</td>\n",
       "      <td>NaN</td>\n",
       "      <td>NaN</td>\n",
       "      <td>NaN</td>\n",
       "    </tr>\n",
       "    <tr>\n",
       "      <th>2017-01-01 00:30:00</th>\n",
       "      <td>0.118386</td>\n",
       "      <td>0.119220</td>\n",
       "      <td>1</td>\n",
       "      <td>27814.0</td>\n",
       "      <td>4595.0</td>\n",
       "      <td>0.0</td>\n",
       "      <td>NaN</td>\n",
       "      <td>NaN</td>\n",
       "      <td>NaN</td>\n",
       "      <td>NaN</td>\n",
       "      <td>NaN</td>\n",
       "      <td>NaN</td>\n",
       "      <td>NaN</td>\n",
       "      <td>NaN</td>\n",
       "      <td>NaN</td>\n",
       "      <td>NaN</td>\n",
       "      <td>NaN</td>\n",
       "      <td>NaN</td>\n",
       "      <td>NaN</td>\n",
       "      <td>NaN</td>\n",
       "      <td>NaN</td>\n",
       "      <td>NaN</td>\n",
       "      <td>NaN</td>\n",
       "      <td>NaN</td>\n",
       "      <td>NaN</td>\n",
       "      <td>NaN</td>\n",
       "      <td>NaN</td>\n",
       "      <td>NaN</td>\n",
       "      <td>NaN</td>\n",
       "      <td>NaN</td>\n",
       "      <td>NaN</td>\n",
       "    </tr>\n",
       "    <tr>\n",
       "      <th>2017-01-01 01:00:00</th>\n",
       "      <td>-0.271481</td>\n",
       "      <td>0.139021</td>\n",
       "      <td>1</td>\n",
       "      <td>27453.0</td>\n",
       "      <td>4686.0</td>\n",
       "      <td>0.0</td>\n",
       "      <td>27239.0</td>\n",
       "      <td>NaN</td>\n",
       "      <td>NaN</td>\n",
       "      <td>NaN</td>\n",
       "      <td>NaN</td>\n",
       "      <td>NaN</td>\n",
       "      <td>NaN</td>\n",
       "      <td>NaN</td>\n",
       "      <td>NaN</td>\n",
       "      <td>NaN</td>\n",
       "      <td>NaN</td>\n",
       "      <td>NaN</td>\n",
       "      <td>NaN</td>\n",
       "      <td>NaN</td>\n",
       "      <td>NaN</td>\n",
       "      <td>NaN</td>\n",
       "      <td>NaN</td>\n",
       "      <td>NaN</td>\n",
       "      <td>NaN</td>\n",
       "      <td>NaN</td>\n",
       "      <td>NaN</td>\n",
       "      <td>NaN</td>\n",
       "      <td>NaN</td>\n",
       "      <td>NaN</td>\n",
       "      <td>NaN</td>\n",
       "    </tr>\n",
       "    <tr>\n",
       "      <th>2017-01-01 01:30:00</th>\n",
       "      <td>-0.795801</td>\n",
       "      <td>-0.011947</td>\n",
       "      <td>1</td>\n",
       "      <td>26312.0</td>\n",
       "      <td>5439.0</td>\n",
       "      <td>0.0</td>\n",
       "      <td>27814.0</td>\n",
       "      <td>27239.0</td>\n",
       "      <td>NaN</td>\n",
       "      <td>NaN</td>\n",
       "      <td>NaN</td>\n",
       "      <td>NaN</td>\n",
       "      <td>NaN</td>\n",
       "      <td>NaN</td>\n",
       "      <td>NaN</td>\n",
       "      <td>NaN</td>\n",
       "      <td>NaN</td>\n",
       "      <td>NaN</td>\n",
       "      <td>NaN</td>\n",
       "      <td>NaN</td>\n",
       "      <td>NaN</td>\n",
       "      <td>-0.528806</td>\n",
       "      <td>-0.03195</td>\n",
       "      <td>NaN</td>\n",
       "      <td>NaN</td>\n",
       "      <td>NaN</td>\n",
       "      <td>NaN</td>\n",
       "      <td>NaN</td>\n",
       "      <td>NaN</td>\n",
       "      <td>NaN</td>\n",
       "      <td>NaN</td>\n",
       "    </tr>\n",
       "    <tr>\n",
       "      <th>2017-01-01 02:00:00</th>\n",
       "      <td>-0.839250</td>\n",
       "      <td>-0.019264</td>\n",
       "      <td>1</td>\n",
       "      <td>25289.0</td>\n",
       "      <td>5400.0</td>\n",
       "      <td>0.0</td>\n",
       "      <td>27453.0</td>\n",
       "      <td>27814.0</td>\n",
       "      <td>27239.0</td>\n",
       "      <td>NaN</td>\n",
       "      <td>NaN</td>\n",
       "      <td>4891.0</td>\n",
       "      <td>0.0</td>\n",
       "      <td>NaN</td>\n",
       "      <td>NaN</td>\n",
       "      <td>NaN</td>\n",
       "      <td>NaN</td>\n",
       "      <td>NaN</td>\n",
       "      <td>NaN</td>\n",
       "      <td>NaN</td>\n",
       "      <td>NaN</td>\n",
       "      <td>0.118386</td>\n",
       "      <td>0.11922</td>\n",
       "      <td>-0.528806</td>\n",
       "      <td>-0.03195</td>\n",
       "      <td>NaN</td>\n",
       "      <td>NaN</td>\n",
       "      <td>NaN</td>\n",
       "      <td>NaN</td>\n",
       "      <td>NaN</td>\n",
       "      <td>NaN</td>\n",
       "    </tr>\n",
       "  </tbody>\n",
       "</table>\n",
       "</div>"
      ],
      "text/plain": [
       "                         pc_1      pc_2  y  ...  pc_2 (t-6)  pc_1 (t-7)  pc_2 (t-7)\n",
       "timeblock                                   ...                                    \n",
       "2017-01-01 00:00:00 -0.528806 -0.031950  1  ...         NaN         NaN         NaN\n",
       "2017-01-01 00:30:00  0.118386  0.119220  1  ...         NaN         NaN         NaN\n",
       "2017-01-01 01:00:00 -0.271481  0.139021  1  ...         NaN         NaN         NaN\n",
       "2017-01-01 01:30:00 -0.795801 -0.011947  1  ...         NaN         NaN         NaN\n",
       "2017-01-01 02:00:00 -0.839250 -0.019264  1  ...         NaN         NaN         NaN\n",
       "\n",
       "[5 rows x 31 columns]"
      ]
     },
     "execution_count": 219,
     "metadata": {
      "tags": []
     },
     "output_type": "execute_result"
    }
   ],
   "source": [
    "lags = range(3, 8)  # 5 lags\n",
    "\n",
    "df_uk_fin = df_uk_fin.assign(**{ # Jeffrey: How does this work?\n",
    "    '{} (t-{})'.format(col, t): df_uk_fin[col].shift(t)\n",
    "    for t in lags\n",
    "    for col in df_uk_fin[['pc_1', 'pc_2']]\n",
    "})\n",
    "\n",
    "df_uk_fin.head()"
   ]
  },
  {
   "cell_type": "code",
   "execution_count": 109,
   "metadata": {
    "colab": {
     "base_uri": "https://localhost:8080/",
     "height": 683
    },
    "colab_type": "code",
    "id": "3GGT4U7Q1uPd",
    "outputId": "4c1258fa-e887-4be9-b9a9-758c3dd2027e"
   },
   "outputs": [
    {
     "data": {
      "text/html": [
       "<div>\n",
       "<style scoped>\n",
       "    .dataframe tbody tr th:only-of-type {\n",
       "        vertical-align: middle;\n",
       "    }\n",
       "\n",
       "    .dataframe tbody tr th {\n",
       "        vertical-align: top;\n",
       "    }\n",
       "\n",
       "    .dataframe thead th {\n",
       "        text-align: right;\n",
       "    }\n",
       "</style>\n",
       "<table border=\"1\" class=\"dataframe\">\n",
       "  <thead>\n",
       "    <tr style=\"text-align: right;\">\n",
       "      <th></th>\n",
       "      <th>demand_INDO</th>\n",
       "      <th>intraday_price</th>\n",
       "      <th>wind_total</th>\n",
       "      <th>solar</th>\n",
       "      <th>y</th>\n",
       "      <th>demand_INDO (t-2)</th>\n",
       "      <th>demand_INDO (t-3)</th>\n",
       "      <th>demand_INDO (t-4)</th>\n",
       "      <th>demand_INDO (t-5)</th>\n",
       "      <th>demand_INDO (t-6)</th>\n",
       "      <th>wind_total (t-4)</th>\n",
       "      <th>solar (t-4)</th>\n",
       "      <th>wind_total (t-5)</th>\n",
       "      <th>solar (t-5)</th>\n",
       "      <th>wind_total (t-6)</th>\n",
       "      <th>solar (t-6)</th>\n",
       "      <th>wind_total (t-7)</th>\n",
       "      <th>solar (t-7)</th>\n",
       "      <th>wind_total (t-8)</th>\n",
       "      <th>solar (t-8)</th>\n",
       "      <th>intraday_price (t-3)</th>\n",
       "      <th>intraday_price (t-4)</th>\n",
       "      <th>intraday_price (t-5)</th>\n",
       "      <th>intraday_price (t-6)</th>\n",
       "      <th>intraday_price (t-7)</th>\n",
       "    </tr>\n",
       "    <tr>\n",
       "      <th>timeblock</th>\n",
       "      <th></th>\n",
       "      <th></th>\n",
       "      <th></th>\n",
       "      <th></th>\n",
       "      <th></th>\n",
       "      <th></th>\n",
       "      <th></th>\n",
       "      <th></th>\n",
       "      <th></th>\n",
       "      <th></th>\n",
       "      <th></th>\n",
       "      <th></th>\n",
       "      <th></th>\n",
       "      <th></th>\n",
       "      <th></th>\n",
       "      <th></th>\n",
       "      <th></th>\n",
       "      <th></th>\n",
       "      <th></th>\n",
       "      <th></th>\n",
       "      <th></th>\n",
       "      <th></th>\n",
       "      <th></th>\n",
       "      <th></th>\n",
       "      <th></th>\n",
       "    </tr>\n",
       "  </thead>\n",
       "  <tbody>\n",
       "    <tr>\n",
       "      <th>2017-01-01 00:00:00</th>\n",
       "      <td>27239.0</td>\n",
       "      <td>44.90</td>\n",
       "      <td>4891.0</td>\n",
       "      <td>0.0</td>\n",
       "      <td>1</td>\n",
       "      <td>NaN</td>\n",
       "      <td>NaN</td>\n",
       "      <td>NaN</td>\n",
       "      <td>NaN</td>\n",
       "      <td>NaN</td>\n",
       "      <td>NaN</td>\n",
       "      <td>NaN</td>\n",
       "      <td>NaN</td>\n",
       "      <td>NaN</td>\n",
       "      <td>NaN</td>\n",
       "      <td>NaN</td>\n",
       "      <td>NaN</td>\n",
       "      <td>NaN</td>\n",
       "      <td>NaN</td>\n",
       "      <td>NaN</td>\n",
       "      <td>NaN</td>\n",
       "      <td>NaN</td>\n",
       "      <td>NaN</td>\n",
       "      <td>NaN</td>\n",
       "      <td>NaN</td>\n",
       "    </tr>\n",
       "    <tr>\n",
       "      <th>2017-01-01 00:30:00</th>\n",
       "      <td>27814.0</td>\n",
       "      <td>47.13</td>\n",
       "      <td>4595.0</td>\n",
       "      <td>0.0</td>\n",
       "      <td>1</td>\n",
       "      <td>NaN</td>\n",
       "      <td>NaN</td>\n",
       "      <td>NaN</td>\n",
       "      <td>NaN</td>\n",
       "      <td>NaN</td>\n",
       "      <td>NaN</td>\n",
       "      <td>NaN</td>\n",
       "      <td>NaN</td>\n",
       "      <td>NaN</td>\n",
       "      <td>NaN</td>\n",
       "      <td>NaN</td>\n",
       "      <td>NaN</td>\n",
       "      <td>NaN</td>\n",
       "      <td>NaN</td>\n",
       "      <td>NaN</td>\n",
       "      <td>NaN</td>\n",
       "      <td>NaN</td>\n",
       "      <td>NaN</td>\n",
       "      <td>NaN</td>\n",
       "      <td>NaN</td>\n",
       "    </tr>\n",
       "    <tr>\n",
       "      <th>2017-01-01 01:00:00</th>\n",
       "      <td>27453.0</td>\n",
       "      <td>45.62</td>\n",
       "      <td>4686.0</td>\n",
       "      <td>0.0</td>\n",
       "      <td>1</td>\n",
       "      <td>27239.0</td>\n",
       "      <td>NaN</td>\n",
       "      <td>NaN</td>\n",
       "      <td>NaN</td>\n",
       "      <td>NaN</td>\n",
       "      <td>NaN</td>\n",
       "      <td>NaN</td>\n",
       "      <td>NaN</td>\n",
       "      <td>NaN</td>\n",
       "      <td>NaN</td>\n",
       "      <td>NaN</td>\n",
       "      <td>NaN</td>\n",
       "      <td>NaN</td>\n",
       "      <td>NaN</td>\n",
       "      <td>NaN</td>\n",
       "      <td>NaN</td>\n",
       "      <td>NaN</td>\n",
       "      <td>NaN</td>\n",
       "      <td>NaN</td>\n",
       "      <td>NaN</td>\n",
       "    </tr>\n",
       "    <tr>\n",
       "      <th>2017-01-01 01:30:00</th>\n",
       "      <td>26312.0</td>\n",
       "      <td>44.05</td>\n",
       "      <td>5439.0</td>\n",
       "      <td>0.0</td>\n",
       "      <td>1</td>\n",
       "      <td>27814.0</td>\n",
       "      <td>27239.0</td>\n",
       "      <td>NaN</td>\n",
       "      <td>NaN</td>\n",
       "      <td>NaN</td>\n",
       "      <td>NaN</td>\n",
       "      <td>NaN</td>\n",
       "      <td>NaN</td>\n",
       "      <td>NaN</td>\n",
       "      <td>NaN</td>\n",
       "      <td>NaN</td>\n",
       "      <td>NaN</td>\n",
       "      <td>NaN</td>\n",
       "      <td>NaN</td>\n",
       "      <td>NaN</td>\n",
       "      <td>44.90</td>\n",
       "      <td>NaN</td>\n",
       "      <td>NaN</td>\n",
       "      <td>NaN</td>\n",
       "      <td>NaN</td>\n",
       "    </tr>\n",
       "    <tr>\n",
       "      <th>2017-01-01 02:00:00</th>\n",
       "      <td>25289.0</td>\n",
       "      <td>44.83</td>\n",
       "      <td>5400.0</td>\n",
       "      <td>0.0</td>\n",
       "      <td>1</td>\n",
       "      <td>27453.0</td>\n",
       "      <td>27814.0</td>\n",
       "      <td>27239.0</td>\n",
       "      <td>NaN</td>\n",
       "      <td>NaN</td>\n",
       "      <td>4891.0</td>\n",
       "      <td>0.0</td>\n",
       "      <td>NaN</td>\n",
       "      <td>NaN</td>\n",
       "      <td>NaN</td>\n",
       "      <td>NaN</td>\n",
       "      <td>NaN</td>\n",
       "      <td>NaN</td>\n",
       "      <td>NaN</td>\n",
       "      <td>NaN</td>\n",
       "      <td>47.13</td>\n",
       "      <td>44.90</td>\n",
       "      <td>NaN</td>\n",
       "      <td>NaN</td>\n",
       "      <td>NaN</td>\n",
       "    </tr>\n",
       "    <tr>\n",
       "      <th>2017-01-01 02:30:00</th>\n",
       "      <td>24616.0</td>\n",
       "      <td>45.51</td>\n",
       "      <td>5413.0</td>\n",
       "      <td>0.0</td>\n",
       "      <td>1</td>\n",
       "      <td>26312.0</td>\n",
       "      <td>27453.0</td>\n",
       "      <td>27814.0</td>\n",
       "      <td>27239.0</td>\n",
       "      <td>NaN</td>\n",
       "      <td>4595.0</td>\n",
       "      <td>0.0</td>\n",
       "      <td>4891.0</td>\n",
       "      <td>0.0</td>\n",
       "      <td>NaN</td>\n",
       "      <td>NaN</td>\n",
       "      <td>NaN</td>\n",
       "      <td>NaN</td>\n",
       "      <td>NaN</td>\n",
       "      <td>NaN</td>\n",
       "      <td>45.62</td>\n",
       "      <td>47.13</td>\n",
       "      <td>44.90</td>\n",
       "      <td>NaN</td>\n",
       "      <td>NaN</td>\n",
       "    </tr>\n",
       "    <tr>\n",
       "      <th>2017-01-01 03:00:00</th>\n",
       "      <td>23654.0</td>\n",
       "      <td>44.85</td>\n",
       "      <td>5594.0</td>\n",
       "      <td>0.0</td>\n",
       "      <td>1</td>\n",
       "      <td>25289.0</td>\n",
       "      <td>26312.0</td>\n",
       "      <td>27453.0</td>\n",
       "      <td>27814.0</td>\n",
       "      <td>27239.0</td>\n",
       "      <td>4686.0</td>\n",
       "      <td>0.0</td>\n",
       "      <td>4595.0</td>\n",
       "      <td>0.0</td>\n",
       "      <td>4891.0</td>\n",
       "      <td>0.0</td>\n",
       "      <td>NaN</td>\n",
       "      <td>NaN</td>\n",
       "      <td>NaN</td>\n",
       "      <td>NaN</td>\n",
       "      <td>44.05</td>\n",
       "      <td>45.62</td>\n",
       "      <td>47.13</td>\n",
       "      <td>44.90</td>\n",
       "      <td>NaN</td>\n",
       "    </tr>\n",
       "    <tr>\n",
       "      <th>2017-01-01 03:30:00</th>\n",
       "      <td>22806.0</td>\n",
       "      <td>42.80</td>\n",
       "      <td>5776.0</td>\n",
       "      <td>0.0</td>\n",
       "      <td>1</td>\n",
       "      <td>24616.0</td>\n",
       "      <td>25289.0</td>\n",
       "      <td>26312.0</td>\n",
       "      <td>27453.0</td>\n",
       "      <td>27814.0</td>\n",
       "      <td>5439.0</td>\n",
       "      <td>0.0</td>\n",
       "      <td>4686.0</td>\n",
       "      <td>0.0</td>\n",
       "      <td>4595.0</td>\n",
       "      <td>0.0</td>\n",
       "      <td>4891.0</td>\n",
       "      <td>0.0</td>\n",
       "      <td>NaN</td>\n",
       "      <td>NaN</td>\n",
       "      <td>44.83</td>\n",
       "      <td>44.05</td>\n",
       "      <td>45.62</td>\n",
       "      <td>47.13</td>\n",
       "      <td>44.90</td>\n",
       "    </tr>\n",
       "    <tr>\n",
       "      <th>2017-01-01 04:00:00</th>\n",
       "      <td>22234.0</td>\n",
       "      <td>42.33</td>\n",
       "      <td>5962.0</td>\n",
       "      <td>0.0</td>\n",
       "      <td>1</td>\n",
       "      <td>23654.0</td>\n",
       "      <td>24616.0</td>\n",
       "      <td>25289.0</td>\n",
       "      <td>26312.0</td>\n",
       "      <td>27453.0</td>\n",
       "      <td>5400.0</td>\n",
       "      <td>0.0</td>\n",
       "      <td>5439.0</td>\n",
       "      <td>0.0</td>\n",
       "      <td>4686.0</td>\n",
       "      <td>0.0</td>\n",
       "      <td>4595.0</td>\n",
       "      <td>0.0</td>\n",
       "      <td>4891.0</td>\n",
       "      <td>0.0</td>\n",
       "      <td>45.51</td>\n",
       "      <td>44.83</td>\n",
       "      <td>44.05</td>\n",
       "      <td>45.62</td>\n",
       "      <td>47.13</td>\n",
       "    </tr>\n",
       "    <tr>\n",
       "      <th>2017-01-01 04:30:00</th>\n",
       "      <td>21928.0</td>\n",
       "      <td>40.87</td>\n",
       "      <td>5956.0</td>\n",
       "      <td>0.0</td>\n",
       "      <td>1</td>\n",
       "      <td>22806.0</td>\n",
       "      <td>23654.0</td>\n",
       "      <td>24616.0</td>\n",
       "      <td>25289.0</td>\n",
       "      <td>26312.0</td>\n",
       "      <td>5413.0</td>\n",
       "      <td>0.0</td>\n",
       "      <td>5400.0</td>\n",
       "      <td>0.0</td>\n",
       "      <td>5439.0</td>\n",
       "      <td>0.0</td>\n",
       "      <td>4686.0</td>\n",
       "      <td>0.0</td>\n",
       "      <td>4595.0</td>\n",
       "      <td>0.0</td>\n",
       "      <td>44.85</td>\n",
       "      <td>45.51</td>\n",
       "      <td>44.83</td>\n",
       "      <td>44.05</td>\n",
       "      <td>45.62</td>\n",
       "    </tr>\n",
       "    <tr>\n",
       "      <th>2017-01-01 05:00:00</th>\n",
       "      <td>21726.0</td>\n",
       "      <td>41.53</td>\n",
       "      <td>5954.0</td>\n",
       "      <td>0.0</td>\n",
       "      <td>0</td>\n",
       "      <td>22234.0</td>\n",
       "      <td>22806.0</td>\n",
       "      <td>23654.0</td>\n",
       "      <td>24616.0</td>\n",
       "      <td>25289.0</td>\n",
       "      <td>5594.0</td>\n",
       "      <td>0.0</td>\n",
       "      <td>5413.0</td>\n",
       "      <td>0.0</td>\n",
       "      <td>5400.0</td>\n",
       "      <td>0.0</td>\n",
       "      <td>5439.0</td>\n",
       "      <td>0.0</td>\n",
       "      <td>4686.0</td>\n",
       "      <td>0.0</td>\n",
       "      <td>42.80</td>\n",
       "      <td>44.85</td>\n",
       "      <td>45.51</td>\n",
       "      <td>44.83</td>\n",
       "      <td>44.05</td>\n",
       "    </tr>\n",
       "    <tr>\n",
       "      <th>2017-01-01 05:30:00</th>\n",
       "      <td>21597.0</td>\n",
       "      <td>41.89</td>\n",
       "      <td>6108.0</td>\n",
       "      <td>0.0</td>\n",
       "      <td>1</td>\n",
       "      <td>21928.0</td>\n",
       "      <td>22234.0</td>\n",
       "      <td>22806.0</td>\n",
       "      <td>23654.0</td>\n",
       "      <td>24616.0</td>\n",
       "      <td>5776.0</td>\n",
       "      <td>0.0</td>\n",
       "      <td>5594.0</td>\n",
       "      <td>0.0</td>\n",
       "      <td>5413.0</td>\n",
       "      <td>0.0</td>\n",
       "      <td>5400.0</td>\n",
       "      <td>0.0</td>\n",
       "      <td>5439.0</td>\n",
       "      <td>0.0</td>\n",
       "      <td>42.33</td>\n",
       "      <td>42.80</td>\n",
       "      <td>44.85</td>\n",
       "      <td>45.51</td>\n",
       "      <td>44.83</td>\n",
       "    </tr>\n",
       "  </tbody>\n",
       "</table>\n",
       "</div>"
      ],
      "text/plain": [
       "                     demand_INDO  ...  intraday_price (t-7)\n",
       "timeblock                         ...                      \n",
       "2017-01-01 00:00:00      27239.0  ...                   NaN\n",
       "2017-01-01 00:30:00      27814.0  ...                   NaN\n",
       "2017-01-01 01:00:00      27453.0  ...                   NaN\n",
       "2017-01-01 01:30:00      26312.0  ...                   NaN\n",
       "2017-01-01 02:00:00      25289.0  ...                   NaN\n",
       "2017-01-01 02:30:00      24616.0  ...                   NaN\n",
       "2017-01-01 03:00:00      23654.0  ...                   NaN\n",
       "2017-01-01 03:30:00      22806.0  ...                 44.90\n",
       "2017-01-01 04:00:00      22234.0  ...                 47.13\n",
       "2017-01-01 04:30:00      21928.0  ...                 45.62\n",
       "2017-01-01 05:00:00      21726.0  ...                 44.05\n",
       "2017-01-01 05:30:00      21597.0  ...                 44.83\n",
       "\n",
       "[12 rows x 25 columns]"
      ]
     },
     "execution_count": 109,
     "metadata": {
      "tags": []
     },
     "output_type": "execute_result"
    }
   ],
   "source": [
    "# # Create t-2, t-3... columns\n",
    "# lags = range(3, 8)  # 5 lags\n",
    "\n",
    "# df_uk_4var = df_uk_4var.assign(**{ # Jeffrey: How does this work?\n",
    "#     '{} (t-{})'.format(col, t): df_uk_4var[col].shift(t)\n",
    "#     for t in lags\n",
    "#     for col in df_uk_4var[['intraday_price']] # \n",
    "# })\n",
    "\n",
    "# df_uk_4var.head(12)"
   ]
  },
  {
   "cell_type": "code",
   "execution_count": 221,
   "metadata": {
    "colab": {
     "base_uri": "https://localhost:8080/",
     "height": 683
    },
    "colab_type": "code",
    "id": "Wzo3p2QS18iM",
    "outputId": "943bcf1a-4269-457a-cbfa-5ce9f8d19f4f"
   },
   "outputs": [
    {
     "data": {
      "text/html": [
       "<div>\n",
       "<style scoped>\n",
       "    .dataframe tbody tr th:only-of-type {\n",
       "        vertical-align: middle;\n",
       "    }\n",
       "\n",
       "    .dataframe tbody tr th {\n",
       "        vertical-align: top;\n",
       "    }\n",
       "\n",
       "    .dataframe thead th {\n",
       "        text-align: right;\n",
       "    }\n",
       "</style>\n",
       "<table border=\"1\" class=\"dataframe\">\n",
       "  <thead>\n",
       "    <tr style=\"text-align: right;\">\n",
       "      <th></th>\n",
       "      <th>demand_INDO</th>\n",
       "      <th>demand_INDO (t-2)</th>\n",
       "      <th>demand_INDO (t-3)</th>\n",
       "      <th>demand_INDO (t-4)</th>\n",
       "      <th>demand_INDO (t-5)</th>\n",
       "      <th>demand_INDO (t-6)</th>\n",
       "      <th>pc_1</th>\n",
       "      <th>pc_1 (t-3)</th>\n",
       "      <th>pc_1 (t-4)</th>\n",
       "      <th>pc_1 (t-5)</th>\n",
       "      <th>pc_1 (t-6)</th>\n",
       "      <th>pc_1 (t-7)</th>\n",
       "      <th>pc_2</th>\n",
       "      <th>pc_2 (t-3)</th>\n",
       "      <th>pc_2 (t-4)</th>\n",
       "      <th>pc_2 (t-5)</th>\n",
       "      <th>pc_2 (t-6)</th>\n",
       "      <th>pc_2 (t-7)</th>\n",
       "      <th>solar</th>\n",
       "      <th>solar (t-4)</th>\n",
       "      <th>solar (t-5)</th>\n",
       "      <th>solar (t-6)</th>\n",
       "      <th>solar (t-7)</th>\n",
       "      <th>solar (t-8)</th>\n",
       "      <th>wind_total</th>\n",
       "      <th>wind_total (t-4)</th>\n",
       "      <th>wind_total (t-5)</th>\n",
       "      <th>wind_total (t-6)</th>\n",
       "      <th>wind_total (t-7)</th>\n",
       "      <th>wind_total (t-8)</th>\n",
       "      <th>y</th>\n",
       "    </tr>\n",
       "    <tr>\n",
       "      <th>timeblock</th>\n",
       "      <th></th>\n",
       "      <th></th>\n",
       "      <th></th>\n",
       "      <th></th>\n",
       "      <th></th>\n",
       "      <th></th>\n",
       "      <th></th>\n",
       "      <th></th>\n",
       "      <th></th>\n",
       "      <th></th>\n",
       "      <th></th>\n",
       "      <th></th>\n",
       "      <th></th>\n",
       "      <th></th>\n",
       "      <th></th>\n",
       "      <th></th>\n",
       "      <th></th>\n",
       "      <th></th>\n",
       "      <th></th>\n",
       "      <th></th>\n",
       "      <th></th>\n",
       "      <th></th>\n",
       "      <th></th>\n",
       "      <th></th>\n",
       "      <th></th>\n",
       "      <th></th>\n",
       "      <th></th>\n",
       "      <th></th>\n",
       "      <th></th>\n",
       "      <th></th>\n",
       "      <th></th>\n",
       "    </tr>\n",
       "  </thead>\n",
       "  <tbody>\n",
       "    <tr>\n",
       "      <th>2017-01-01 04:00:00</th>\n",
       "      <td>22234.0</td>\n",
       "      <td>23654.0</td>\n",
       "      <td>24616.0</td>\n",
       "      <td>25289.0</td>\n",
       "      <td>26312.0</td>\n",
       "      <td>27453.0</td>\n",
       "      <td>-0.425948</td>\n",
       "      <td>-0.520072</td>\n",
       "      <td>-0.839250</td>\n",
       "      <td>-0.795801</td>\n",
       "      <td>-0.271481</td>\n",
       "      <td>0.118386</td>\n",
       "      <td>0.317257</td>\n",
       "      <td>0.076724</td>\n",
       "      <td>-0.019264</td>\n",
       "      <td>-0.011947</td>\n",
       "      <td>0.139021</td>\n",
       "      <td>0.119220</td>\n",
       "      <td>0.0</td>\n",
       "      <td>0.0</td>\n",
       "      <td>0.0</td>\n",
       "      <td>0.0</td>\n",
       "      <td>0.0</td>\n",
       "      <td>0.0</td>\n",
       "      <td>5962.0</td>\n",
       "      <td>5400.0</td>\n",
       "      <td>5439.0</td>\n",
       "      <td>4686.0</td>\n",
       "      <td>4595.0</td>\n",
       "      <td>4891.0</td>\n",
       "      <td>1</td>\n",
       "    </tr>\n",
       "    <tr>\n",
       "      <th>2017-01-01 04:30:00</th>\n",
       "      <td>21928.0</td>\n",
       "      <td>22806.0</td>\n",
       "      <td>23654.0</td>\n",
       "      <td>24616.0</td>\n",
       "      <td>25289.0</td>\n",
       "      <td>26312.0</td>\n",
       "      <td>-0.351472</td>\n",
       "      <td>-0.504062</td>\n",
       "      <td>-0.520072</td>\n",
       "      <td>-0.839250</td>\n",
       "      <td>-0.795801</td>\n",
       "      <td>-0.271481</td>\n",
       "      <td>0.360938</td>\n",
       "      <td>0.170869</td>\n",
       "      <td>0.076724</td>\n",
       "      <td>-0.019264</td>\n",
       "      <td>-0.011947</td>\n",
       "      <td>0.139021</td>\n",
       "      <td>0.0</td>\n",
       "      <td>0.0</td>\n",
       "      <td>0.0</td>\n",
       "      <td>0.0</td>\n",
       "      <td>0.0</td>\n",
       "      <td>0.0</td>\n",
       "      <td>5956.0</td>\n",
       "      <td>5413.0</td>\n",
       "      <td>5400.0</td>\n",
       "      <td>5439.0</td>\n",
       "      <td>4686.0</td>\n",
       "      <td>4595.0</td>\n",
       "      <td>1</td>\n",
       "    </tr>\n",
       "    <tr>\n",
       "      <th>2017-01-01 05:00:00</th>\n",
       "      <td>21726.0</td>\n",
       "      <td>22234.0</td>\n",
       "      <td>22806.0</td>\n",
       "      <td>23654.0</td>\n",
       "      <td>24616.0</td>\n",
       "      <td>25289.0</td>\n",
       "      <td>0.348149</td>\n",
       "      <td>-0.751550</td>\n",
       "      <td>-0.504062</td>\n",
       "      <td>-0.520072</td>\n",
       "      <td>-0.839250</td>\n",
       "      <td>-0.795801</td>\n",
       "      <td>0.489632</td>\n",
       "      <td>0.120651</td>\n",
       "      <td>0.170869</td>\n",
       "      <td>0.076724</td>\n",
       "      <td>-0.019264</td>\n",
       "      <td>-0.011947</td>\n",
       "      <td>0.0</td>\n",
       "      <td>0.0</td>\n",
       "      <td>0.0</td>\n",
       "      <td>0.0</td>\n",
       "      <td>0.0</td>\n",
       "      <td>0.0</td>\n",
       "      <td>5954.0</td>\n",
       "      <td>5594.0</td>\n",
       "      <td>5413.0</td>\n",
       "      <td>5400.0</td>\n",
       "      <td>5439.0</td>\n",
       "      <td>4686.0</td>\n",
       "      <td>0</td>\n",
       "    </tr>\n",
       "    <tr>\n",
       "      <th>2017-01-01 05:30:00</th>\n",
       "      <td>21597.0</td>\n",
       "      <td>21928.0</td>\n",
       "      <td>22234.0</td>\n",
       "      <td>22806.0</td>\n",
       "      <td>23654.0</td>\n",
       "      <td>24616.0</td>\n",
       "      <td>-0.478113</td>\n",
       "      <td>-0.425948</td>\n",
       "      <td>-0.751550</td>\n",
       "      <td>-0.504062</td>\n",
       "      <td>-0.520072</td>\n",
       "      <td>-0.839250</td>\n",
       "      <td>0.332572</td>\n",
       "      <td>0.317257</td>\n",
       "      <td>0.120651</td>\n",
       "      <td>0.170869</td>\n",
       "      <td>0.076724</td>\n",
       "      <td>-0.019264</td>\n",
       "      <td>0.0</td>\n",
       "      <td>0.0</td>\n",
       "      <td>0.0</td>\n",
       "      <td>0.0</td>\n",
       "      <td>0.0</td>\n",
       "      <td>0.0</td>\n",
       "      <td>6108.0</td>\n",
       "      <td>5776.0</td>\n",
       "      <td>5594.0</td>\n",
       "      <td>5413.0</td>\n",
       "      <td>5400.0</td>\n",
       "      <td>5439.0</td>\n",
       "      <td>1</td>\n",
       "    </tr>\n",
       "    <tr>\n",
       "      <th>2017-01-01 06:00:00</th>\n",
       "      <td>21887.0</td>\n",
       "      <td>21726.0</td>\n",
       "      <td>21928.0</td>\n",
       "      <td>22234.0</td>\n",
       "      <td>22806.0</td>\n",
       "      <td>23654.0</td>\n",
       "      <td>-0.732266</td>\n",
       "      <td>-0.351472</td>\n",
       "      <td>-0.425948</td>\n",
       "      <td>-0.751550</td>\n",
       "      <td>-0.504062</td>\n",
       "      <td>-0.520072</td>\n",
       "      <td>0.269996</td>\n",
       "      <td>0.360938</td>\n",
       "      <td>0.317257</td>\n",
       "      <td>0.120651</td>\n",
       "      <td>0.170869</td>\n",
       "      <td>0.076724</td>\n",
       "      <td>0.0</td>\n",
       "      <td>0.0</td>\n",
       "      <td>0.0</td>\n",
       "      <td>0.0</td>\n",
       "      <td>0.0</td>\n",
       "      <td>0.0</td>\n",
       "      <td>5917.0</td>\n",
       "      <td>5962.0</td>\n",
       "      <td>5776.0</td>\n",
       "      <td>5594.0</td>\n",
       "      <td>5413.0</td>\n",
       "      <td>5400.0</td>\n",
       "      <td>1</td>\n",
       "    </tr>\n",
       "    <tr>\n",
       "      <th>2017-01-01 06:30:00</th>\n",
       "      <td>22082.0</td>\n",
       "      <td>21597.0</td>\n",
       "      <td>21726.0</td>\n",
       "      <td>21928.0</td>\n",
       "      <td>22234.0</td>\n",
       "      <td>22806.0</td>\n",
       "      <td>-0.806547</td>\n",
       "      <td>0.348149</td>\n",
       "      <td>-0.351472</td>\n",
       "      <td>-0.425948</td>\n",
       "      <td>-0.751550</td>\n",
       "      <td>-0.504062</td>\n",
       "      <td>0.245122</td>\n",
       "      <td>0.489632</td>\n",
       "      <td>0.360938</td>\n",
       "      <td>0.317257</td>\n",
       "      <td>0.120651</td>\n",
       "      <td>0.170869</td>\n",
       "      <td>0.0</td>\n",
       "      <td>0.0</td>\n",
       "      <td>0.0</td>\n",
       "      <td>0.0</td>\n",
       "      <td>0.0</td>\n",
       "      <td>0.0</td>\n",
       "      <td>5881.0</td>\n",
       "      <td>5956.0</td>\n",
       "      <td>5962.0</td>\n",
       "      <td>5776.0</td>\n",
       "      <td>5594.0</td>\n",
       "      <td>5413.0</td>\n",
       "      <td>1</td>\n",
       "    </tr>\n",
       "    <tr>\n",
       "      <th>2017-01-01 07:00:00</th>\n",
       "      <td>22376.0</td>\n",
       "      <td>21887.0</td>\n",
       "      <td>21597.0</td>\n",
       "      <td>21726.0</td>\n",
       "      <td>21928.0</td>\n",
       "      <td>22234.0</td>\n",
       "      <td>-0.817725</td>\n",
       "      <td>-0.478113</td>\n",
       "      <td>0.348149</td>\n",
       "      <td>-0.351472</td>\n",
       "      <td>-0.425948</td>\n",
       "      <td>-0.751550</td>\n",
       "      <td>0.302298</td>\n",
       "      <td>0.332572</td>\n",
       "      <td>0.489632</td>\n",
       "      <td>0.360938</td>\n",
       "      <td>0.317257</td>\n",
       "      <td>0.120651</td>\n",
       "      <td>0.0</td>\n",
       "      <td>0.0</td>\n",
       "      <td>0.0</td>\n",
       "      <td>0.0</td>\n",
       "      <td>0.0</td>\n",
       "      <td>0.0</td>\n",
       "      <td>5814.0</td>\n",
       "      <td>5954.0</td>\n",
       "      <td>5956.0</td>\n",
       "      <td>5962.0</td>\n",
       "      <td>5776.0</td>\n",
       "      <td>5594.0</td>\n",
       "      <td>1</td>\n",
       "    </tr>\n",
       "    <tr>\n",
       "      <th>2017-01-01 07:30:00</th>\n",
       "      <td>22615.0</td>\n",
       "      <td>22082.0</td>\n",
       "      <td>21887.0</td>\n",
       "      <td>21597.0</td>\n",
       "      <td>21726.0</td>\n",
       "      <td>21928.0</td>\n",
       "      <td>-1.603319</td>\n",
       "      <td>-0.732266</td>\n",
       "      <td>-0.478113</td>\n",
       "      <td>0.348149</td>\n",
       "      <td>-0.351472</td>\n",
       "      <td>-0.425948</td>\n",
       "      <td>0.082317</td>\n",
       "      <td>0.269996</td>\n",
       "      <td>0.332572</td>\n",
       "      <td>0.489632</td>\n",
       "      <td>0.360938</td>\n",
       "      <td>0.317257</td>\n",
       "      <td>0.0</td>\n",
       "      <td>0.0</td>\n",
       "      <td>0.0</td>\n",
       "      <td>0.0</td>\n",
       "      <td>0.0</td>\n",
       "      <td>0.0</td>\n",
       "      <td>6044.0</td>\n",
       "      <td>6108.0</td>\n",
       "      <td>5954.0</td>\n",
       "      <td>5956.0</td>\n",
       "      <td>5962.0</td>\n",
       "      <td>5776.0</td>\n",
       "      <td>1</td>\n",
       "    </tr>\n",
       "    <tr>\n",
       "      <th>2017-01-01 08:00:00</th>\n",
       "      <td>23452.0</td>\n",
       "      <td>22376.0</td>\n",
       "      <td>22082.0</td>\n",
       "      <td>21887.0</td>\n",
       "      <td>21597.0</td>\n",
       "      <td>21726.0</td>\n",
       "      <td>-1.710504</td>\n",
       "      <td>-0.806547</td>\n",
       "      <td>-0.732266</td>\n",
       "      <td>-0.478113</td>\n",
       "      <td>0.348149</td>\n",
       "      <td>-0.351472</td>\n",
       "      <td>0.186070</td>\n",
       "      <td>0.245122</td>\n",
       "      <td>0.269996</td>\n",
       "      <td>0.332572</td>\n",
       "      <td>0.489632</td>\n",
       "      <td>0.360938</td>\n",
       "      <td>14.0</td>\n",
       "      <td>0.0</td>\n",
       "      <td>0.0</td>\n",
       "      <td>0.0</td>\n",
       "      <td>0.0</td>\n",
       "      <td>0.0</td>\n",
       "      <td>5919.0</td>\n",
       "      <td>5917.0</td>\n",
       "      <td>6108.0</td>\n",
       "      <td>5954.0</td>\n",
       "      <td>5956.0</td>\n",
       "      <td>5962.0</td>\n",
       "      <td>1</td>\n",
       "    </tr>\n",
       "    <tr>\n",
       "      <th>2017-01-01 08:30:00</th>\n",
       "      <td>24422.0</td>\n",
       "      <td>22615.0</td>\n",
       "      <td>22376.0</td>\n",
       "      <td>22082.0</td>\n",
       "      <td>21887.0</td>\n",
       "      <td>21597.0</td>\n",
       "      <td>-1.044384</td>\n",
       "      <td>-0.817725</td>\n",
       "      <td>-0.806547</td>\n",
       "      <td>-0.732266</td>\n",
       "      <td>-0.478113</td>\n",
       "      <td>0.348149</td>\n",
       "      <td>0.348923</td>\n",
       "      <td>0.302298</td>\n",
       "      <td>0.245122</td>\n",
       "      <td>0.269996</td>\n",
       "      <td>0.332572</td>\n",
       "      <td>0.489632</td>\n",
       "      <td>82.0</td>\n",
       "      <td>0.0</td>\n",
       "      <td>0.0</td>\n",
       "      <td>0.0</td>\n",
       "      <td>0.0</td>\n",
       "      <td>0.0</td>\n",
       "      <td>5891.0</td>\n",
       "      <td>5881.0</td>\n",
       "      <td>5917.0</td>\n",
       "      <td>6108.0</td>\n",
       "      <td>5954.0</td>\n",
       "      <td>5956.0</td>\n",
       "      <td>1</td>\n",
       "    </tr>\n",
       "    <tr>\n",
       "      <th>2017-01-01 09:00:00</th>\n",
       "      <td>25909.0</td>\n",
       "      <td>23452.0</td>\n",
       "      <td>22615.0</td>\n",
       "      <td>22376.0</td>\n",
       "      <td>22082.0</td>\n",
       "      <td>21887.0</td>\n",
       "      <td>-0.664550</td>\n",
       "      <td>-1.603319</td>\n",
       "      <td>-0.817725</td>\n",
       "      <td>-0.806547</td>\n",
       "      <td>-0.732266</td>\n",
       "      <td>-0.478113</td>\n",
       "      <td>0.463007</td>\n",
       "      <td>0.082317</td>\n",
       "      <td>0.302298</td>\n",
       "      <td>0.245122</td>\n",
       "      <td>0.269996</td>\n",
       "      <td>0.332572</td>\n",
       "      <td>170.0</td>\n",
       "      <td>0.0</td>\n",
       "      <td>0.0</td>\n",
       "      <td>0.0</td>\n",
       "      <td>0.0</td>\n",
       "      <td>0.0</td>\n",
       "      <td>6010.0</td>\n",
       "      <td>5814.0</td>\n",
       "      <td>5881.0</td>\n",
       "      <td>5917.0</td>\n",
       "      <td>6108.0</td>\n",
       "      <td>5954.0</td>\n",
       "      <td>1</td>\n",
       "    </tr>\n",
       "    <tr>\n",
       "      <th>2017-01-01 09:30:00</th>\n",
       "      <td>27198.0</td>\n",
       "      <td>24422.0</td>\n",
       "      <td>23452.0</td>\n",
       "      <td>22615.0</td>\n",
       "      <td>22376.0</td>\n",
       "      <td>22082.0</td>\n",
       "      <td>0.267923</td>\n",
       "      <td>-1.710504</td>\n",
       "      <td>-1.603319</td>\n",
       "      <td>-0.817725</td>\n",
       "      <td>-0.806547</td>\n",
       "      <td>-0.732266</td>\n",
       "      <td>0.649248</td>\n",
       "      <td>0.186070</td>\n",
       "      <td>0.082317</td>\n",
       "      <td>0.302298</td>\n",
       "      <td>0.245122</td>\n",
       "      <td>0.269996</td>\n",
       "      <td>284.0</td>\n",
       "      <td>0.0</td>\n",
       "      <td>0.0</td>\n",
       "      <td>0.0</td>\n",
       "      <td>0.0</td>\n",
       "      <td>0.0</td>\n",
       "      <td>6170.0</td>\n",
       "      <td>6044.0</td>\n",
       "      <td>5814.0</td>\n",
       "      <td>5881.0</td>\n",
       "      <td>5917.0</td>\n",
       "      <td>6108.0</td>\n",
       "      <td>0</td>\n",
       "    </tr>\n",
       "  </tbody>\n",
       "</table>\n",
       "</div>"
      ],
      "text/plain": [
       "                     demand_INDO  demand_INDO (t-2)  ...  wind_total (t-8)  y\n",
       "timeblock                                            ...                     \n",
       "2017-01-01 04:00:00      22234.0            23654.0  ...            4891.0  1\n",
       "2017-01-01 04:30:00      21928.0            22806.0  ...            4595.0  1\n",
       "2017-01-01 05:00:00      21726.0            22234.0  ...            4686.0  0\n",
       "2017-01-01 05:30:00      21597.0            21928.0  ...            5439.0  1\n",
       "2017-01-01 06:00:00      21887.0            21726.0  ...            5400.0  1\n",
       "2017-01-01 06:30:00      22082.0            21597.0  ...            5413.0  1\n",
       "2017-01-01 07:00:00      22376.0            21887.0  ...            5594.0  1\n",
       "2017-01-01 07:30:00      22615.0            22082.0  ...            5776.0  1\n",
       "2017-01-01 08:00:00      23452.0            22376.0  ...            5962.0  1\n",
       "2017-01-01 08:30:00      24422.0            22615.0  ...            5956.0  1\n",
       "2017-01-01 09:00:00      25909.0            23452.0  ...            5954.0  1\n",
       "2017-01-01 09:30:00      27198.0            24422.0  ...            6108.0  0\n",
       "\n",
       "[12 rows x 31 columns]"
      ]
     },
     "execution_count": 221,
     "metadata": {
      "tags": []
     },
     "output_type": "execute_result"
    }
   ],
   "source": [
    "df_uk_fin = df_uk_fin.reindex(sorted(df_uk_fin.columns), axis=1)\n",
    "df_uk_fin.head(12) # first available data point is 2017-01-01 04:00:00"
   ]
  },
  {
   "cell_type": "code",
   "execution_count": 220,
   "metadata": {
    "colab": {
     "base_uri": "https://localhost:8080/",
     "height": 352
    },
    "colab_type": "code",
    "id": "nCTrb230FjNS",
    "outputId": "a34ddca1-f72d-48ae-cf14-02fa9c30fcc2"
   },
   "outputs": [
    {
     "data": {
      "text/html": [
       "<div>\n",
       "<style scoped>\n",
       "    .dataframe tbody tr th:only-of-type {\n",
       "        vertical-align: middle;\n",
       "    }\n",
       "\n",
       "    .dataframe tbody tr th {\n",
       "        vertical-align: top;\n",
       "    }\n",
       "\n",
       "    .dataframe thead th {\n",
       "        text-align: right;\n",
       "    }\n",
       "</style>\n",
       "<table border=\"1\" class=\"dataframe\">\n",
       "  <thead>\n",
       "    <tr style=\"text-align: right;\">\n",
       "      <th></th>\n",
       "      <th>pc_1</th>\n",
       "      <th>pc_2</th>\n",
       "      <th>y</th>\n",
       "      <th>demand_INDO</th>\n",
       "      <th>wind_total</th>\n",
       "      <th>solar</th>\n",
       "      <th>demand_INDO (t-2)</th>\n",
       "      <th>demand_INDO (t-3)</th>\n",
       "      <th>demand_INDO (t-4)</th>\n",
       "      <th>demand_INDO (t-5)</th>\n",
       "      <th>demand_INDO (t-6)</th>\n",
       "      <th>wind_total (t-4)</th>\n",
       "      <th>solar (t-4)</th>\n",
       "      <th>wind_total (t-5)</th>\n",
       "      <th>solar (t-5)</th>\n",
       "      <th>wind_total (t-6)</th>\n",
       "      <th>solar (t-6)</th>\n",
       "      <th>wind_total (t-7)</th>\n",
       "      <th>solar (t-7)</th>\n",
       "      <th>wind_total (t-8)</th>\n",
       "      <th>solar (t-8)</th>\n",
       "      <th>pc_1 (t-3)</th>\n",
       "      <th>pc_2 (t-3)</th>\n",
       "      <th>pc_1 (t-4)</th>\n",
       "      <th>pc_2 (t-4)</th>\n",
       "      <th>pc_1 (t-5)</th>\n",
       "      <th>pc_2 (t-5)</th>\n",
       "      <th>pc_1 (t-6)</th>\n",
       "      <th>pc_2 (t-6)</th>\n",
       "      <th>pc_1 (t-7)</th>\n",
       "      <th>pc_2 (t-7)</th>\n",
       "    </tr>\n",
       "    <tr>\n",
       "      <th>timeblock</th>\n",
       "      <th></th>\n",
       "      <th></th>\n",
       "      <th></th>\n",
       "      <th></th>\n",
       "      <th></th>\n",
       "      <th></th>\n",
       "      <th></th>\n",
       "      <th></th>\n",
       "      <th></th>\n",
       "      <th></th>\n",
       "      <th></th>\n",
       "      <th></th>\n",
       "      <th></th>\n",
       "      <th></th>\n",
       "      <th></th>\n",
       "      <th></th>\n",
       "      <th></th>\n",
       "      <th></th>\n",
       "      <th></th>\n",
       "      <th></th>\n",
       "      <th></th>\n",
       "      <th></th>\n",
       "      <th></th>\n",
       "      <th></th>\n",
       "      <th></th>\n",
       "      <th></th>\n",
       "      <th></th>\n",
       "      <th></th>\n",
       "      <th></th>\n",
       "      <th></th>\n",
       "      <th></th>\n",
       "    </tr>\n",
       "  </thead>\n",
       "  <tbody>\n",
       "    <tr>\n",
       "      <th>2017-01-01 04:00:00</th>\n",
       "      <td>-0.425948</td>\n",
       "      <td>0.317257</td>\n",
       "      <td>1</td>\n",
       "      <td>22234.0</td>\n",
       "      <td>5962.0</td>\n",
       "      <td>0.0</td>\n",
       "      <td>23654.0</td>\n",
       "      <td>24616.0</td>\n",
       "      <td>25289.0</td>\n",
       "      <td>26312.0</td>\n",
       "      <td>27453.0</td>\n",
       "      <td>5400.0</td>\n",
       "      <td>0.0</td>\n",
       "      <td>5439.0</td>\n",
       "      <td>0.0</td>\n",
       "      <td>4686.0</td>\n",
       "      <td>0.0</td>\n",
       "      <td>4595.0</td>\n",
       "      <td>0.0</td>\n",
       "      <td>4891.0</td>\n",
       "      <td>0.0</td>\n",
       "      <td>-0.520072</td>\n",
       "      <td>0.076724</td>\n",
       "      <td>-0.839250</td>\n",
       "      <td>-0.019264</td>\n",
       "      <td>-0.795801</td>\n",
       "      <td>-0.011947</td>\n",
       "      <td>-0.271481</td>\n",
       "      <td>0.139021</td>\n",
       "      <td>0.118386</td>\n",
       "      <td>0.119220</td>\n",
       "    </tr>\n",
       "    <tr>\n",
       "      <th>2017-01-01 04:30:00</th>\n",
       "      <td>-0.351472</td>\n",
       "      <td>0.360938</td>\n",
       "      <td>1</td>\n",
       "      <td>21928.0</td>\n",
       "      <td>5956.0</td>\n",
       "      <td>0.0</td>\n",
       "      <td>22806.0</td>\n",
       "      <td>23654.0</td>\n",
       "      <td>24616.0</td>\n",
       "      <td>25289.0</td>\n",
       "      <td>26312.0</td>\n",
       "      <td>5413.0</td>\n",
       "      <td>0.0</td>\n",
       "      <td>5400.0</td>\n",
       "      <td>0.0</td>\n",
       "      <td>5439.0</td>\n",
       "      <td>0.0</td>\n",
       "      <td>4686.0</td>\n",
       "      <td>0.0</td>\n",
       "      <td>4595.0</td>\n",
       "      <td>0.0</td>\n",
       "      <td>-0.504062</td>\n",
       "      <td>0.170869</td>\n",
       "      <td>-0.520072</td>\n",
       "      <td>0.076724</td>\n",
       "      <td>-0.839250</td>\n",
       "      <td>-0.019264</td>\n",
       "      <td>-0.795801</td>\n",
       "      <td>-0.011947</td>\n",
       "      <td>-0.271481</td>\n",
       "      <td>0.139021</td>\n",
       "    </tr>\n",
       "    <tr>\n",
       "      <th>2017-01-01 05:00:00</th>\n",
       "      <td>0.348149</td>\n",
       "      <td>0.489632</td>\n",
       "      <td>0</td>\n",
       "      <td>21726.0</td>\n",
       "      <td>5954.0</td>\n",
       "      <td>0.0</td>\n",
       "      <td>22234.0</td>\n",
       "      <td>22806.0</td>\n",
       "      <td>23654.0</td>\n",
       "      <td>24616.0</td>\n",
       "      <td>25289.0</td>\n",
       "      <td>5594.0</td>\n",
       "      <td>0.0</td>\n",
       "      <td>5413.0</td>\n",
       "      <td>0.0</td>\n",
       "      <td>5400.0</td>\n",
       "      <td>0.0</td>\n",
       "      <td>5439.0</td>\n",
       "      <td>0.0</td>\n",
       "      <td>4686.0</td>\n",
       "      <td>0.0</td>\n",
       "      <td>-0.751550</td>\n",
       "      <td>0.120651</td>\n",
       "      <td>-0.504062</td>\n",
       "      <td>0.170869</td>\n",
       "      <td>-0.520072</td>\n",
       "      <td>0.076724</td>\n",
       "      <td>-0.839250</td>\n",
       "      <td>-0.019264</td>\n",
       "      <td>-0.795801</td>\n",
       "      <td>-0.011947</td>\n",
       "    </tr>\n",
       "    <tr>\n",
       "      <th>2017-01-01 05:30:00</th>\n",
       "      <td>-0.478113</td>\n",
       "      <td>0.332572</td>\n",
       "      <td>1</td>\n",
       "      <td>21597.0</td>\n",
       "      <td>6108.0</td>\n",
       "      <td>0.0</td>\n",
       "      <td>21928.0</td>\n",
       "      <td>22234.0</td>\n",
       "      <td>22806.0</td>\n",
       "      <td>23654.0</td>\n",
       "      <td>24616.0</td>\n",
       "      <td>5776.0</td>\n",
       "      <td>0.0</td>\n",
       "      <td>5594.0</td>\n",
       "      <td>0.0</td>\n",
       "      <td>5413.0</td>\n",
       "      <td>0.0</td>\n",
       "      <td>5400.0</td>\n",
       "      <td>0.0</td>\n",
       "      <td>5439.0</td>\n",
       "      <td>0.0</td>\n",
       "      <td>-0.425948</td>\n",
       "      <td>0.317257</td>\n",
       "      <td>-0.751550</td>\n",
       "      <td>0.120651</td>\n",
       "      <td>-0.504062</td>\n",
       "      <td>0.170869</td>\n",
       "      <td>-0.520072</td>\n",
       "      <td>0.076724</td>\n",
       "      <td>-0.839250</td>\n",
       "      <td>-0.019264</td>\n",
       "    </tr>\n",
       "    <tr>\n",
       "      <th>2017-01-01 06:00:00</th>\n",
       "      <td>-0.732266</td>\n",
       "      <td>0.269996</td>\n",
       "      <td>1</td>\n",
       "      <td>21887.0</td>\n",
       "      <td>5917.0</td>\n",
       "      <td>0.0</td>\n",
       "      <td>21726.0</td>\n",
       "      <td>21928.0</td>\n",
       "      <td>22234.0</td>\n",
       "      <td>22806.0</td>\n",
       "      <td>23654.0</td>\n",
       "      <td>5962.0</td>\n",
       "      <td>0.0</td>\n",
       "      <td>5776.0</td>\n",
       "      <td>0.0</td>\n",
       "      <td>5594.0</td>\n",
       "      <td>0.0</td>\n",
       "      <td>5413.0</td>\n",
       "      <td>0.0</td>\n",
       "      <td>5400.0</td>\n",
       "      <td>0.0</td>\n",
       "      <td>-0.351472</td>\n",
       "      <td>0.360938</td>\n",
       "      <td>-0.425948</td>\n",
       "      <td>0.317257</td>\n",
       "      <td>-0.751550</td>\n",
       "      <td>0.120651</td>\n",
       "      <td>-0.504062</td>\n",
       "      <td>0.170869</td>\n",
       "      <td>-0.520072</td>\n",
       "      <td>0.076724</td>\n",
       "    </tr>\n",
       "  </tbody>\n",
       "</table>\n",
       "</div>"
      ],
      "text/plain": [
       "                         pc_1      pc_2  y  ...  pc_2 (t-6)  pc_1 (t-7)  pc_2 (t-7)\n",
       "timeblock                                   ...                                    \n",
       "2017-01-01 04:00:00 -0.425948  0.317257  1  ...    0.139021    0.118386    0.119220\n",
       "2017-01-01 04:30:00 -0.351472  0.360938  1  ...   -0.011947   -0.271481    0.139021\n",
       "2017-01-01 05:00:00  0.348149  0.489632  0  ...   -0.019264   -0.795801   -0.011947\n",
       "2017-01-01 05:30:00 -0.478113  0.332572  1  ...    0.076724   -0.839250   -0.019264\n",
       "2017-01-01 06:00:00 -0.732266  0.269996  1  ...    0.170869   -0.520072    0.076724\n",
       "\n",
       "[5 rows x 31 columns]"
      ]
     },
     "execution_count": 220,
     "metadata": {
      "tags": []
     },
     "output_type": "execute_result"
    }
   ],
   "source": [
    "df_uk_fin = df_uk_fin.loc['2017-01-01 04:00:00': , :]\n",
    "df_uk_fin.head()"
   ]
  },
  {
   "cell_type": "code",
   "execution_count": 239,
   "metadata": {
    "colab": {
     "base_uri": "https://localhost:8080/",
     "height": 35
    },
    "colab_type": "code",
    "id": "bTPHQekDzJHc",
    "outputId": "6ad6906f-4d6f-401f-f6da-e88dde3dc11a"
   },
   "outputs": [
    {
     "data": {
      "text/plain": [
       "(52558, 31)"
      ]
     },
     "execution_count": 239,
     "metadata": {
      "tags": []
     },
     "output_type": "execute_result"
    }
   ],
   "source": [
    "df_uk_fin.shape"
   ]
  },
  {
   "cell_type": "markdown",
   "metadata": {
    "colab_type": "text",
    "id": "9pLiWC-6wDWk"
   },
   "source": [
    "#### ACF & PACF to determine the window size for each variable"
   ]
  },
  {
   "cell_type": "code",
   "execution_count": 67,
   "metadata": {
    "colab": {},
    "colab_type": "code",
    "id": "DIBxgY0TxBpv"
   },
   "outputs": [],
   "source": [
    "from statsmodels.graphics.tsaplots import plot_acf, plot_pacf"
   ]
  },
  {
   "cell_type": "code",
   "execution_count": 68,
   "metadata": {
    "colab": {
     "base_uri": "https://localhost:8080/",
     "height": 557
    },
    "colab_type": "code",
    "id": "seGdpkGhyvse",
    "outputId": "abbaafb3-24c4-405e-990a-c8966e8485f0"
   },
   "outputs": [
    {
     "data": {
      "image/png": "[encoded data removed]",
      "text/plain": [
       "<Figure size 432x288 with 1 Axes>"
      ]
     },
     "metadata": {
      "needs_background": "light",
      "tags": []
     },
     "output_type": "display_data"
    },
    {
     "data": {
      "image/png": "[encoded data removed]",
      "text/plain": [
       "<Figure size 432x288 with 1 Axes>"
      ]
     },
     "metadata": {
      "needs_background": "light",
      "tags": []
     },
     "output_type": "display_data"
    }
   ],
   "source": [
    "demand_ITSDO_acf = plot_acf(df_uk['demand_ITSDO']) # Why not showing year in the x axis?\n",
    "plt.show(demand_ITSDO_acf)\n",
    "demand_ITSDO_pacf = plot_pacf(df_uk['demand_ITSDO'], lags=50)\n",
    "plt.show(demand_ITSDO_pacf)"
   ]
  },
  {
   "cell_type": "code",
   "execution_count": null,
   "metadata": {
    "colab": {
     "base_uri": "https://localhost:8080/",
     "height": 557
    },
    "colab_type": "code",
    "id": "fLJ34gTIyuWB",
    "outputId": "41ba7767-83f8-4836-9a66-f1345c92423f"
   },
   "outputs": [
    {
     "data": {
      "image/png": "[encoded data removed]",
      "text/plain": [
       "<Figure size 432x288 with 1 Axes>"
      ]
     },
     "metadata": {
      "needs_background": "light",
      "tags": []
     },
     "output_type": "display_data"
    },
    {
     "data": {
      "image/png": "[encoded data removed]",
      "text/plain": [
       "<Figure size 432x288 with 1 Axes>"
      ]
     },
     "metadata": {
      "needs_background": "light",
      "tags": []
     },
     "output_type": "display_data"
    }
   ],
   "source": [
    "demand_INDO_acf = plot_acf(df_uk['demand_INDO'])\n",
    "plt.show(demand_INDO_acf)\n",
    "demand_INDO_pacf = plot_pacf(df_uk['demand_INDO'], lags=50)\n",
    "plt.show(demand_INDO_pacf)"
   ]
  },
  {
   "cell_type": "code",
   "execution_count": null,
   "metadata": {
    "colab": {
     "base_uri": "https://localhost:8080/",
     "height": 557
    },
    "colab_type": "code",
    "id": "YbD5Oqn5yvkt",
    "outputId": "6d1b1c16-2051-45d9-c41c-10ca783ee751"
   },
   "outputs": [
    {
     "data": {
      "image/png": "[encoded data removed]",
      "text/plain": [
       "<Figure size 432x288 with 1 Axes>"
      ]
     },
     "metadata": {
      "needs_background": "light",
      "tags": []
     },
     "output_type": "display_data"
    },
    {
     "data": {
      "image/png": "[encoded data removed]",
      "text/plain": [
       "<Figure size 432x288 with 1 Axes>"
      ]
     },
     "metadata": {
      "needs_background": "light",
      "tags": []
     },
     "output_type": "display_data"
    }
   ],
   "source": [
    "wind_for_elexon_acf = plot_acf(df_uk['wind_for_elexon'])\n",
    "plt.show(wind_for_elexon_acf)\n",
    "wind_for_elexon_pacf = plot_pacf(df_uk['wind_for_elexon'], lags=50)\n",
    "plt.show(wind_for_elexon_pacf)"
   ]
  },
  {
   "cell_type": "code",
   "execution_count": null,
   "metadata": {
    "colab": {
     "base_uri": "https://localhost:8080/",
     "height": 287
    },
    "colab_type": "code",
    "id": "7i3p5nwiyv0d",
    "outputId": "f7b350d6-249a-4531-d0da-d0ba1777b34a"
   },
   "outputs": [
    {
     "data": {
      "image/png": "[encoded data removed]",
      "text/plain": [
       "<Figure size 432x288 with 1 Axes>"
      ]
     },
     "metadata": {
      "needs_background": "light",
      "tags": []
     },
     "output_type": "display_data"
    }
   ],
   "source": [
    "demand_ITSDO_acf = plot_acf(df_uk['demand_ITSDO'])\n",
    "plt.show()"
   ]
  },
  {
   "cell_type": "code",
   "execution_count": null,
   "metadata": {
    "colab": {
     "base_uri": "https://localhost:8080/",
     "height": 287
    },
    "colab_type": "code",
    "id": "mb4mNm54yvyL",
    "outputId": "e3049add-f827-4ef4-adf9-63e0ef07f24f"
   },
   "outputs": [
    {
     "data": {
      "image/png": "[encoded data removed]",
      "text/plain": [
       "<Figure size 432x288 with 1 Axes>"
      ]
     },
     "metadata": {
      "needs_background": "light",
      "tags": []
     },
     "output_type": "display_data"
    }
   ],
   "source": [
    "demand_ITSDO_acf = plot_acf(df_uk['demand_ITSDO'])\n",
    "plt.show()"
   ]
  },
  {
   "cell_type": "markdown",
   "metadata": {
    "colab_type": "text",
    "id": "FqBR8KbL42o6"
   },
   "source": [
    "#### Modeling - logsitic regression"
   ]
  },
  {
   "cell_type": "code",
   "execution_count": 230,
   "metadata": {
    "colab": {},
    "colab_type": "code",
    "id": "b1JVAjgYrwMS"
   },
   "outputs": [],
   "source": [
    "# input \n",
    "x = df_uk_fin.iloc[:,:24].values\n",
    "# output \n",
    "y = df_uk_fin.iloc[:, -1].values "
   ]
  },
  {
   "cell_type": "code",
   "execution_count": 231,
   "metadata": {
    "colab": {},
    "colab_type": "code",
    "id": "I5Ur1Fah-Pbi"
   },
   "outputs": [],
   "source": [
    "from sklearn.model_selection import train_test_split \n",
    "xtrain, xtest, ytrain, ytest = train_test_split( \n",
    "        x, y, test_size = 0.5, random_state = 0) "
   ]
  },
  {
   "cell_type": "code",
   "execution_count": 232,
   "metadata": {
    "colab": {
     "base_uri": "https://localhost:8080/",
     "height": 242
    },
    "colab_type": "code",
    "id": "bSisj_crT7aC",
    "outputId": "15497dd4-cf2a-4e38-b259-eb89f354f264"
   },
   "outputs": [
    {
     "data": {
      "text/plain": [
       "array([[-1.13594188, -0.92652966, -0.78467125, ..., -0.64678097,\n",
       "        -0.64678097, -0.64678097],\n",
       "       [-1.18106223, -1.05156737, -0.92651763, ..., -0.64678097,\n",
       "        -0.64678097, -0.64678097],\n",
       "       [-1.21084756, -1.13590884, -1.05155477, ..., -0.64678097,\n",
       "        -0.64678097, -0.64678097],\n",
       "       ...,\n",
       "       [-0.3731721 , -0.11289985,  0.09309539, ..., -0.64678097,\n",
       "        -0.64678097, -0.64678097],\n",
       "       [-0.48685768, -0.26713269, -0.11289151, ..., -0.64678097,\n",
       "        -0.64678097, -0.64678097],\n",
       "       [-0.55851941, -0.37314933, -0.26712364, ..., -0.64678097,\n",
       "        -0.64678097, -0.64678097]])"
      ]
     },
     "execution_count": 232,
     "metadata": {
      "tags": []
     },
     "output_type": "execute_result"
    }
   ],
   "source": [
    "standardized_x = preprocessing.scale(x)\n",
    "standardized_x"
   ]
  },
  {
   "cell_type": "code",
   "execution_count": 233,
   "metadata": {
    "colab": {
     "base_uri": "https://localhost:8080/",
     "height": 242
    },
    "colab_type": "code",
    "id": "3Jrfj19RrdXd",
    "outputId": "7b8e1505-8917-499d-a19d-9dc6a2fe2c64"
   },
   "outputs": [
    {
     "name": "stderr",
     "output_type": "stream",
     "text": [
      "/usr/local/lib/python3.6/dist-packages/sklearn/linear_model/_logistic.py:940: ConvergenceWarning: lbfgs failed to converge (status=1):\n",
      "STOP: TOTAL NO. of ITERATIONS REACHED LIMIT.\n",
      "\n",
      "Increase the number of iterations (max_iter) or scale the data as shown in:\n",
      "    https://scikit-learn.org/stable/modules/preprocessing.html\n",
      "Please also refer to the documentation for alternative solver options:\n",
      "    https://scikit-learn.org/stable/modules/linear_model.html#logistic-regression\n",
      "  extra_warning_msg=_LOGISTIC_SOLVER_CONVERGENCE_MSG)\n"
     ]
    },
    {
     "data": {
      "text/plain": [
       "LogisticRegression(C=1.0, class_weight=None, dual=False, fit_intercept=True,\n",
       "                   intercept_scaling=1, l1_ratio=None, max_iter=100,\n",
       "                   multi_class='auto', n_jobs=None, penalty='l2',\n",
       "                   random_state=0, solver='lbfgs', tol=0.0001, verbose=0,\n",
       "                   warm_start=False)"
      ]
     },
     "execution_count": 233,
     "metadata": {
      "tags": []
     },
     "output_type": "execute_result"
    }
   ],
   "source": [
    "from sklearn.linear_model import LogisticRegression \n",
    "classifier = LogisticRegression(random_state = 0)\n",
    "classifier.fit(xtrain, ytrain) "
   ]
  },
  {
   "cell_type": "code",
   "execution_count": 229,
   "metadata": {
    "colab": {
     "base_uri": "https://localhost:8080/",
     "height": 217
    },
    "colab_type": "code",
    "id": "f1J4dRGerfyI",
    "outputId": "9004a0c9-fe0f-45b5-fc1f-ab90c1e3d15b"
   },
   "outputs": [
    {
     "ename": "NameError",
     "evalue": "ignored",
     "output_type": "error",
     "traceback": [
      "\u001b[0;31m---------------------------------------------------------------------------\u001b[0m",
      "\u001b[0;31mNameError\u001b[0m                                 Traceback (most recent call last)",
      "\u001b[0;32m<ipython-input-229-b613cc32a5c3>\u001b[0m in \u001b[0;36m<module>\u001b[0;34m()\u001b[0m\n\u001b[1;32m      1\u001b[0m \u001b[0;32mfrom\u001b[0m \u001b[0msklearn\u001b[0m\u001b[0;34m.\u001b[0m\u001b[0mmetrics\u001b[0m \u001b[0;32mimport\u001b[0m \u001b[0mconfusion_matrix\u001b[0m\u001b[0;34m\u001b[0m\u001b[0;34m\u001b[0m\u001b[0m\n\u001b[0;32m----> 2\u001b[0;31m \u001b[0mcm\u001b[0m \u001b[0;34m=\u001b[0m \u001b[0mconfusion_matrix\u001b[0m\u001b[0;34m(\u001b[0m\u001b[0mytest\u001b[0m\u001b[0;34m,\u001b[0m \u001b[0my_pred\u001b[0m\u001b[0;34m)\u001b[0m\u001b[0;34m\u001b[0m\u001b[0;34m\u001b[0m\u001b[0m\n\u001b[0m\u001b[1;32m      3\u001b[0m \u001b[0;34m\u001b[0m\u001b[0m\n\u001b[1;32m      4\u001b[0m \u001b[0mprint\u001b[0m \u001b[0;34m(\u001b[0m\u001b[0;34m\"Confusion Matrix : \\n\"\u001b[0m\u001b[0;34m,\u001b[0m \u001b[0mcm\u001b[0m\u001b[0;34m)\u001b[0m\u001b[0;34m\u001b[0m\u001b[0;34m\u001b[0m\u001b[0m\n",
      "\u001b[0;31mNameError\u001b[0m: name 'y_pred' is not defined"
     ]
    }
   ],
   "source": [
    "from sklearn.metrics import confusion_matrix \n",
    "cm = confusion_matrix(ytest, y_pred) \n",
    "  \n",
    "print (\"Confusion Matrix : \\n\", cm) "
   ]
  },
  {
   "cell_type": "code",
   "execution_count": null,
   "metadata": {
    "colab": {},
    "colab_type": "code",
    "id": "eekqbmj-rkHB"
   },
   "outputs": [],
   "source": [
    "from sklearn.metrics import accuracy_score \n",
    "print (\"Accuracy : \", accuracy_score(ytest, y_pred)) "
   ]
  },
  {
   "cell_type": "code",
   "execution_count": null,
   "metadata": {
    "colab": {},
    "colab_type": "code",
    "id": "0xg_d3Verojr"
   },
   "outputs": [],
   "source": [
    "# Visualizing the performance of our model\n",
    "from matplotlib.colors import ListedColormap \n",
    "X_set, y_set = xtest, ytest \n",
    "X1, X2 = np.meshgrid(np.arange(start = X_set[:, 0].min() - 1,  \n",
    "                               stop = X_set[:, 0].max() + 1, step = 0.01), \n",
    "                     np.arange(start = X_set[:, 1].min() - 1,  \n",
    "                               stop = X_set[:, 1].max() + 1, step = 0.01)) \n",
    "  \n",
    "plt.contourf(X1, X2, classifier.predict( \n",
    "             np.array([X1.ravel(), X2.ravel()]).T).reshape( \n",
    "             X1.shape), alpha = 0.75, cmap = ListedColormap(('red', 'green'))) \n",
    "  \n",
    "plt.xlim(X1.min(), X1.max()) \n",
    "plt.ylim(X2.min(), X2.max()) \n",
    "  \n",
    "for i, j in enumerate(np.unique(y_set)): \n",
    "    plt.scatter(X_set[y_set == j, 0], X_set[y_set == j, 1], \n",
    "                c = ListedColormap(('red', 'green'))(i), label = j) \n",
    "      \n",
    "plt.title('Classifier (Test set)') \n",
    "plt.xlabel('Age') \n",
    "plt.ylabel('Estimated Salary') \n",
    "plt.legend() \n",
    "plt.show() "
   ]
  },
  {
   "cell_type": "markdown",
   "metadata": {
    "colab_type": "text",
    "id": "7q-dRTIyrgE1"
   },
   "source": [
    "#### Modeling - LASSO"
   ]
  },
  {
   "cell_type": "code",
   "execution_count": null,
   "metadata": {
    "colab": {},
    "colab_type": "code",
    "id": "BZlnvC01yaww"
   },
   "outputs": [],
   "source": [
    "# input \n",
    "X = df_uk_fin.iloc[:,:24].values\n",
    "# output \n",
    "y = df_uk_fin.iloc[:, -1].values "
   ]
  },
  {
   "cell_type": "code",
   "execution_count": null,
   "metadata": {
    "colab": {},
    "colab_type": "code",
    "id": "M0qHRPIOy6NN"
   },
   "outputs": [],
   "source": [
    "standardized_x = preprocessing.scale(X)\n",
    "standardized_x"
   ]
  },
  {
   "cell_type": "code",
   "execution_count": 234,
   "metadata": {
    "colab": {
     "base_uri": "https://localhost:8080/",
     "height": 625
    },
    "colab_type": "code",
    "id": "32pbtAkOPpN-",
    "outputId": "8f7f56d4-5e43-4512-ddcd-2d4a126dd32f"
   },
   "outputs": [
    {
     "name": "stderr",
     "output_type": "stream",
     "text": [
      "/usr/local/lib/python3.6/dist-packages/sklearn/linear_model/_coordinate_descent.py:476: ConvergenceWarning: Objective did not converge. You might want to increase the number of iterations. Duality gap: 2752.321639887928, tolerance: 1.0302131950720832\n",
      "  positive)\n",
      "/usr/local/lib/python3.6/dist-packages/sklearn/linear_model/_coordinate_descent.py:476: ConvergenceWarning: Objective did not converge. You might want to increase the number of iterations. Duality gap: 2633.4131367691016, tolerance: 1.0092758240974293\n",
      "  positive)\n",
      "/usr/local/lib/python3.6/dist-packages/sklearn/linear_model/_coordinate_descent.py:476: ConvergenceWarning: Objective did not converge. You might want to increase the number of iterations. Duality gap: 2770.832394197876, tolerance: 1.0063523973742914\n",
      "  positive)\n",
      "/usr/local/lib/python3.6/dist-packages/sklearn/linear_model/_coordinate_descent.py:476: ConvergenceWarning: Objective did not converge. You might want to increase the number of iterations. Duality gap: 2800.5575179878783, tolerance: 1.0095111232668095\n",
      "  positive)\n",
      "/usr/local/lib/python3.6/dist-packages/sklearn/linear_model/_coordinate_descent.py:476: ConvergenceWarning: Objective did not converge. You might want to increase the number of iterations. Duality gap: 2683.4188486280123, tolerance: 0.9880600280638295\n",
      "  positive)\n",
      "/usr/local/lib/python3.6/dist-packages/sklearn/linear_model/_coordinate_descent.py:476: ConvergenceWarning: Objective did not converge. You might want to increase the number of iterations. Duality gap: 2752.277393583615, tolerance: 1.0302131950720832\n",
      "  positive)\n",
      "/usr/local/lib/python3.6/dist-packages/sklearn/linear_model/_coordinate_descent.py:476: ConvergenceWarning: Objective did not converge. You might want to increase the number of iterations. Duality gap: 2633.3783339331712, tolerance: 1.0092758240974293\n",
      "  positive)\n",
      "/usr/local/lib/python3.6/dist-packages/sklearn/linear_model/_coordinate_descent.py:476: ConvergenceWarning: Objective did not converge. You might want to increase the number of iterations. Duality gap: 2770.806553728413, tolerance: 1.0063523973742914\n",
      "  positive)\n",
      "/usr/local/lib/python3.6/dist-packages/sklearn/linear_model/_coordinate_descent.py:476: ConvergenceWarning: Objective did not converge. You might want to increase the number of iterations. Duality gap: 2800.5178291966813, tolerance: 1.0095111232668095\n",
      "  positive)\n",
      "/usr/local/lib/python3.6/dist-packages/sklearn/linear_model/_coordinate_descent.py:476: ConvergenceWarning: Objective did not converge. You might want to increase the number of iterations. Duality gap: 2683.353635488215, tolerance: 0.9880600280638295\n",
      "  positive)\n",
      "/usr/local/lib/python3.6/dist-packages/sklearn/linear_model/_coordinate_descent.py:476: ConvergenceWarning: Objective did not converge. You might want to increase the number of iterations. Duality gap: 2747.898887779168, tolerance: 1.0302131950720832\n",
      "  positive)\n",
      "/usr/local/lib/python3.6/dist-packages/sklearn/linear_model/_coordinate_descent.py:476: ConvergenceWarning: Objective did not converge. You might want to increase the number of iterations. Duality gap: 2629.935345587711, tolerance: 1.0092758240974293\n",
      "  positive)\n",
      "/usr/local/lib/python3.6/dist-packages/sklearn/linear_model/_coordinate_descent.py:476: ConvergenceWarning: Objective did not converge. You might want to increase the number of iterations. Duality gap: 2768.2495700617005, tolerance: 1.0063523973742914\n",
      "  positive)\n",
      "/usr/local/lib/python3.6/dist-packages/sklearn/linear_model/_coordinate_descent.py:476: ConvergenceWarning: Objective did not converge. You might want to increase the number of iterations. Duality gap: 2796.5909531432035, tolerance: 1.0095111232668095\n",
      "  positive)\n",
      "/usr/local/lib/python3.6/dist-packages/sklearn/linear_model/_coordinate_descent.py:476: ConvergenceWarning: Objective did not converge. You might want to increase the number of iterations. Duality gap: 2676.892063537623, tolerance: 0.9880600280638295\n",
      "  positive)\n"
     ]
    },
    {
     "name": "stdout",
     "output_type": "stream",
     "text": [
      "{'alpha': 1e-08}\n",
      "-0.13737341866796968\n"
     ]
    },
    {
     "name": "stderr",
     "output_type": "stream",
     "text": [
      "/usr/local/lib/python3.6/dist-packages/sklearn/linear_model/_coordinate_descent.py:476: ConvergenceWarning: Objective did not converge. You might want to increase the number of iterations. Duality gap: 3424.540909134409, tolerance: 1.2623040089044422\n",
      "  positive)\n"
     ]
    }
   ],
   "source": [
    "# From https://github.com/krishnaik06/RegressionandLasso/blob/master/Lassoand%20Regression.ipynb\n",
    "from sklearn.linear_model import Lasso\n",
    "from sklearn.model_selection import GridSearchCV\n",
    "lasso=Lasso(max_iter=2000) # The tolerance for the optimization: if the updates are smaller than tol, the optimization code checks the dual gap for optimality and continues until it is smaller than tol.\n",
    "# HELPPP: what deos that mean?\n",
    "# HELPPP: How to make the y binary?\n",
    "parameters={'alpha':[1e-15,1e-10,1e-8,1e-3,1e-2,1,5,10,20,30,35,40,45,50,55,100]} # experiment with alpha\n",
    "lasso_regressor=GridSearchCV(lasso,parameters,scoring='neg_mean_squared_error',cv=5)\n",
    "\n",
    "lasso_regressor.fit(standardized_x,y)\n",
    "print(lasso_regressor.best_params_)\n",
    "print(lasso_regressor.best_score_)"
   ]
  },
  {
   "cell_type": "code",
   "execution_count": 235,
   "metadata": {
    "colab": {},
    "colab_type": "code",
    "id": "qBEr6e87QakX"
   },
   "outputs": [],
   "source": [
    "from sklearn.model_selection import train_test_split\n",
    "x_train, x_test, y_train, y_test = train_test_split(standardized_x, y, test_size=0.3, random_state=0)"
   ]
  },
  {
   "cell_type": "code",
   "execution_count": 236,
   "metadata": {
    "colab": {},
    "colab_type": "code",
    "id": "-Sp3pek8QcKM"
   },
   "outputs": [],
   "source": [
    "prediction_lasso = lasso_regressor.predict(x_test)"
   ]
  },
  {
   "cell_type": "code",
   "execution_count": 237,
   "metadata": {
    "colab": {
     "base_uri": "https://localhost:8080/",
     "height": 52
    },
    "colab_type": "code",
    "id": "5kjzDVygUdD-",
    "outputId": "707af4a2-d97d-4c49-f005-22690e69d88c"
   },
   "outputs": [
    {
     "data": {
      "text/plain": [
       "array([0.35881131, 0.75872866, 0.32668182, ..., 0.69710403, 0.87490188,\n",
       "       0.14016326])"
      ]
     },
     "execution_count": 237,
     "metadata": {
      "tags": []
     },
     "output_type": "execute_result"
    }
   ],
   "source": [
    "prediction_lasso # This is the prob of what the y can be. 0.63 -> y =1, 0.41 -> y=0"
   ]
  },
  {
   "cell_type": "code",
   "execution_count": 238,
   "metadata": {
    "colab": {
     "base_uri": "https://localhost:8080/",
     "height": 291
    },
    "colab_type": "code",
    "id": "24-M649HQd1Q",
    "outputId": "57090131-a8be-4776-b211-d69a73927d74"
   },
   "outputs": [
    {
     "data": {
      "text/plain": [
       "<matplotlib.axes._subplots.AxesSubplot at 0x7f49c9a7aa58>"
      ]
     },
     "execution_count": 238,
     "metadata": {
      "tags": []
     },
     "output_type": "execute_result"
    },
    {
     "data": {
      "image/png": "[encoded data removed]",
      "text/plain": [
       "<Figure size 432x288 with 1 Axes>"
      ]
     },
     "metadata": {
      "needs_background": "light",
      "tags": []
     },
     "output_type": "display_data"
    }
   ],
   "source": [
    "sns.distplot(y_test-prediction_lasso)"
   ]
  },
  {
   "cell_type": "markdown",
   "metadata": {
    "colab_type": "text",
    "id": "wu7sG2WSYrti"
   },
   "source": [
    "#### Modeling - Random Forest"
   ]
  },
  {
   "cell_type": "code",
   "execution_count": null,
   "metadata": {
    "colab": {},
    "colab_type": "code",
    "id": "q8GAG4ZZYupa"
   },
   "outputs": [],
   "source": [
    "# Use numpy to convert to arrays\n",
    "\n",
    "# Labels are the values we want to predict\n",
    "labels = np.array(features['actual'])\n",
    "# Remove the labels from the features\n",
    "# axis 1 refers to the columns\n",
    "features= features.drop('actual', axis = 1)\n",
    "# Saving feature names for later use\n",
    "feature_list = list(features.columns)\n",
    "# Convert to numpy array\n",
    "features = np.array(features)"
   ]
  },
  {
   "cell_type": "markdown",
   "metadata": {
    "colab_type": "text",
    "id": "IN3mIm5qmchB"
   },
   "source": [
    "#### SVR"
   ]
  },
  {
   "cell_type": "code",
   "execution_count": 118,
   "metadata": {
    "colab": {},
    "colab_type": "code",
    "id": "Bdi2S1bumb6W"
   },
   "outputs": [],
   "source": [
    "# https://scikit-learn.org/stable/auto_examples/svm/plot_svm_regression.html"
   ]
  },
  {
   "cell_type": "code",
   "execution_count": null,
   "metadata": {
    "colab": {},
    "colab_type": "code",
    "id": "02qyYpk2zCp7"
   },
   "outputs": [],
   "source": []
  },
  {
   "cell_type": "code",
   "execution_count": 240,
   "metadata": {
    "colab": {},
    "colab_type": "code",
    "id": "C7aA0J1dzCyB"
   },
   "outputs": [],
   "source": [
    "# input \n",
    "X = df_uk_fin.iloc[:,:29].values\n",
    "# output \n",
    "y = df_uk_fin.iloc[:, -1].values "
   ]
  },
  {
   "cell_type": "code",
   "execution_count": 241,
   "metadata": {
    "colab": {
     "base_uri": "https://localhost:8080/",
     "height": 242
    },
    "colab_type": "code",
    "id": "DqKy8b5xzCyF",
    "outputId": "509054f2-e46d-4e4b-c60d-d5a1e8604a24"
   },
   "outputs": [
    {
     "data": {
      "text/plain": [
       "array([[-1.13594188, -0.92652966, -0.78467125, ...,  0.23468164,\n",
       "        -0.0400136 , -0.07320714],\n",
       "       [-1.18106223, -1.05156737, -0.92651763, ...,  0.22045427,\n",
       "         0.234684  , -0.04000995],\n",
       "       [-1.21084756, -1.13590884, -1.05155477, ...,  0.22519673,\n",
       "         0.22045664,  0.23468768],\n",
       "       ...,\n",
       "       [-0.3731721 , -0.11289985,  0.09309539, ...,  0.0679661 ,\n",
       "         0.06505002, -0.04511721],\n",
       "       [-0.48685768, -0.26713269, -0.11289151, ...,  0.11903869,\n",
       "         0.06796846,  0.06505368],\n",
       "       [-0.55851941, -0.37314933, -0.26712364, ...,  0.08365268,\n",
       "         0.11904105,  0.06797212]])"
      ]
     },
     "execution_count": 241,
     "metadata": {
      "tags": []
     },
     "output_type": "execute_result"
    }
   ],
   "source": [
    "standardized_x = preprocessing.scale(X)\n",
    "standardized_x"
   ]
  },
  {
   "cell_type": "code",
   "execution_count": null,
   "metadata": {
    "colab": {
     "base_uri": "https://localhost:8080/",
     "height": 35
    },
    "colab_type": "code",
    "id": "w6hvbXDBmfzk",
    "outputId": "bcc2f948-7afd-474a-afda-53727bed70af"
   },
   "outputs": [
    {
     "name": "stdout",
     "output_type": "stream",
     "text": [
      "Automatically created module for IPython interactive environment\n"
     ]
    }
   ],
   "source": [
    "print(__doc__)\n",
    "\n",
    "from sklearn.svm import SVR\n",
    "\n",
    "# # #############################################################################\n",
    "# # Generate sample data\n",
    "# X = np.sort(5 * np.random.rand(40, 1), axis=0)\n",
    "# y = np.sin(X).ravel()\n",
    "\n",
    "# # #############################################################################\n",
    "# # Add noise to targets\n",
    "# y[::5] += 3 * (0.5 - np.random.rand(8))\n",
    "\n",
    "# #############################################################################\n",
    "# Fit regression model\n",
    "svr_rbf = SVR(kernel='rbf', C=100, gamma=0.1, epsilon=.1)\n",
    "svr_lin = SVR(kernel='linear', C=100, gamma='auto')\n",
    "svr_poly = SVR(kernel='poly', C=100, gamma='auto', degree=3, epsilon=.1,\n",
    "               coef0=1)\n",
    "\n",
    "# #############################################################################\n",
    "# Look at the results\n",
    "lw = 2\n",
    "\n",
    "svrs = [svr_rbf, svr_lin, svr_poly]\n",
    "kernel_label = ['RBF', 'Linear', 'Polynomial']\n",
    "model_color = ['m', 'c', 'g']\n",
    "\n",
    "fig, axes = plt.subplots(nrows=1, ncols=3, figsize=(15, 10), sharey=True)\n",
    "for ix, svr in enumerate(svrs):\n",
    "    axes[ix].plot(X, svr.fit(X, y).predict(X), color=model_color[ix], lw=lw,\n",
    "                  label='{} model'.format(kernel_label[ix]))\n",
    "    axes[ix].scatter(X[svr.support_], y[svr.support_], facecolor=\"none\",\n",
    "                     edgecolor=model_color[ix], s=50,\n",
    "                     label='{} support vectors'.format(kernel_label[ix]))\n",
    "    axes[ix].scatter(X[np.setdiff1d(np.arange(len(X)), svr.support_)],\n",
    "                     y[np.setdiff1d(np.arange(len(X)), svr.support_)],\n",
    "                     facecolor=\"none\", edgecolor=\"k\", s=50,\n",
    "                     label='other training data')\n",
    "    axes[ix].legend(loc='upper center', bbox_to_anchor=(0.5, 1.1),\n",
    "                    ncol=1, fancybox=True, shadow=True)\n",
    "\n",
    "fig.text(0.5, 0.04, 'data', ha='center', va='center')\n",
    "fig.text(0.06, 0.5, 'target', ha='center', va='center', rotation='vertical')\n",
    "fig.suptitle(\"Support Vector Regression\", fontsize=14)\n",
    "plt.show()"
   ]
  },
  {
   "cell_type": "code",
   "execution_count": null,
   "metadata": {
    "colab": {},
    "colab_type": "code",
    "id": "b6hbPrMjzV4e"
   },
   "outputs": [],
   "source": []
  }
 ],
 "metadata": {
  "colab": {
   "collapsed_sections": [
    "BEXGUEMHMabB",
    "FqBR8KbL42o6",
    "wu7sG2WSYrti"
   ],
   "name": "Code_Masterthesis_Models.ipynb",
   "provenance": []
  },
  "kernelspec": {
   "display_name": "Python 3",
   "language": "python",
   "name": "python3"
  },
  "language_info": {
   "codemirror_mode": {
    "name": "ipython",
    "version": 3
   },
   "file_extension": ".py",
   "mimetype": "text/x-python",
   "name": "python",
   "nbconvert_exporter": "python",
   "pygments_lexer": "ipython3",
   "version": "3.7.6"
  }
 },
 "nbformat": 4,
 "nbformat_minor": 1
}
